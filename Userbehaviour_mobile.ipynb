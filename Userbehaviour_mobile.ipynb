{
  "nbformat": 4,
  "nbformat_minor": 0,
  "metadata": {
    "colab": {
      "provenance": [],
      "authorship_tag": "ABX9TyOj+88QRIdRbm0xKeAvdfXN",
      "include_colab_link": true
    },
    "kernelspec": {
      "name": "python3",
      "display_name": "Python 3"
    },
    "language_info": {
      "name": "python"
    }
  },
  "cells": [
    {
      "cell_type": "markdown",
      "metadata": {
        "id": "view-in-github",
        "colab_type": "text"
      },
      "source": [
        "<a href=\"https://colab.research.google.com/github/AnushiyaG14/Mobile-user-database/blob/main/Userbehaviour_mobile.ipynb\" target=\"_parent\"><img src=\"https://colab.research.google.com/assets/colab-badge.svg\" alt=\"Open In Colab\"/></a>"
      ]
    },
    {
      "cell_type": "code",
      "execution_count": 27,
      "metadata": {
        "id": "SUjBDE954OH0"
      },
      "outputs": [],
      "source": [
        "import pandas as pd\n",
        "import numpy as np\n",
        "import matplotlib.pyplot as plt\n",
        "import plotly.express as px\n",
        "import seaborn as sns"
      ]
    },
    {
      "cell_type": "code",
      "source": [
        "df=pd.read_csv('/content/user_behavior_dataset.csv')"
      ],
      "metadata": {
        "id": "OQgt4VzX45QN"
      },
      "execution_count": 2,
      "outputs": []
    },
    {
      "cell_type": "code",
      "source": [
        "df.isnull().sum()"
      ],
      "metadata": {
        "colab": {
          "base_uri": "https://localhost:8080/",
          "height": 429
        },
        "collapsed": true,
        "id": "lKVuZhjI5B5q",
        "outputId": "28ef5fb0-530b-4514-a322-cef20cd23f59"
      },
      "execution_count": 4,
      "outputs": [
        {
          "output_type": "execute_result",
          "data": {
            "text/plain": [
              "User ID                       0\n",
              "Device Model                  0\n",
              "Operating System              0\n",
              "App Usage Time (min/day)      0\n",
              "Screen On Time (hours/day)    0\n",
              "Battery Drain (mAh/day)       0\n",
              "Number of Apps Installed      0\n",
              "Data Usage (MB/day)           0\n",
              "Age                           0\n",
              "Gender                        0\n",
              "User Behavior Class           0\n",
              "dtype: int64"
            ],
            "text/html": [
              "<div>\n",
              "<style scoped>\n",
              "    .dataframe tbody tr th:only-of-type {\n",
              "        vertical-align: middle;\n",
              "    }\n",
              "\n",
              "    .dataframe tbody tr th {\n",
              "        vertical-align: top;\n",
              "    }\n",
              "\n",
              "    .dataframe thead th {\n",
              "        text-align: right;\n",
              "    }\n",
              "</style>\n",
              "<table border=\"1\" class=\"dataframe\">\n",
              "  <thead>\n",
              "    <tr style=\"text-align: right;\">\n",
              "      <th></th>\n",
              "      <th>0</th>\n",
              "    </tr>\n",
              "  </thead>\n",
              "  <tbody>\n",
              "    <tr>\n",
              "      <th>User ID</th>\n",
              "      <td>0</td>\n",
              "    </tr>\n",
              "    <tr>\n",
              "      <th>Device Model</th>\n",
              "      <td>0</td>\n",
              "    </tr>\n",
              "    <tr>\n",
              "      <th>Operating System</th>\n",
              "      <td>0</td>\n",
              "    </tr>\n",
              "    <tr>\n",
              "      <th>App Usage Time (min/day)</th>\n",
              "      <td>0</td>\n",
              "    </tr>\n",
              "    <tr>\n",
              "      <th>Screen On Time (hours/day)</th>\n",
              "      <td>0</td>\n",
              "    </tr>\n",
              "    <tr>\n",
              "      <th>Battery Drain (mAh/day)</th>\n",
              "      <td>0</td>\n",
              "    </tr>\n",
              "    <tr>\n",
              "      <th>Number of Apps Installed</th>\n",
              "      <td>0</td>\n",
              "    </tr>\n",
              "    <tr>\n",
              "      <th>Data Usage (MB/day)</th>\n",
              "      <td>0</td>\n",
              "    </tr>\n",
              "    <tr>\n",
              "      <th>Age</th>\n",
              "      <td>0</td>\n",
              "    </tr>\n",
              "    <tr>\n",
              "      <th>Gender</th>\n",
              "      <td>0</td>\n",
              "    </tr>\n",
              "    <tr>\n",
              "      <th>User Behavior Class</th>\n",
              "      <td>0</td>\n",
              "    </tr>\n",
              "  </tbody>\n",
              "</table>\n",
              "</div><br><label><b>dtype:</b> int64</label>"
            ]
          },
          "metadata": {},
          "execution_count": 4
        }
      ]
    },
    {
      "cell_type": "code",
      "source": [
        "df.duplicated().sum()"
      ],
      "metadata": {
        "colab": {
          "base_uri": "https://localhost:8080/"
        },
        "id": "dvez1EKD5l04",
        "outputId": "52dc7df6-bd03-4d72-ceed-aa19158935d2"
      },
      "execution_count": 14,
      "outputs": [
        {
          "output_type": "execute_result",
          "data": {
            "text/plain": [
              "0"
            ]
          },
          "metadata": {},
          "execution_count": 14
        }
      ]
    },
    {
      "cell_type": "code",
      "source": [
        "df.info()"
      ],
      "metadata": {
        "colab": {
          "base_uri": "https://localhost:8080/"
        },
        "id": "DvwfsyvI6aPD",
        "outputId": "1f755149-175d-4377-d15f-e40c8d1f4da7"
      },
      "execution_count": 15,
      "outputs": [
        {
          "output_type": "stream",
          "name": "stdout",
          "text": [
            "<class 'pandas.core.frame.DataFrame'>\n",
            "RangeIndex: 700 entries, 0 to 699\n",
            "Data columns (total 11 columns):\n",
            " #   Column                      Non-Null Count  Dtype  \n",
            "---  ------                      --------------  -----  \n",
            " 0   User ID                     700 non-null    int64  \n",
            " 1   Device Model                700 non-null    object \n",
            " 2   Operating System            700 non-null    object \n",
            " 3   App Usage Time (min/day)    700 non-null    int64  \n",
            " 4   Screen On Time (hours/day)  700 non-null    float64\n",
            " 5   Battery Drain (mAh/day)     700 non-null    int64  \n",
            " 6   Number of Apps Installed    700 non-null    int64  \n",
            " 7   Data Usage (MB/day)         700 non-null    int64  \n",
            " 8   Age                         700 non-null    int64  \n",
            " 9   Gender                      700 non-null    object \n",
            " 10  User Behavior Class         700 non-null    int64  \n",
            "dtypes: float64(1), int64(7), object(3)\n",
            "memory usage: 60.3+ KB\n"
          ]
        }
      ]
    },
    {
      "cell_type": "code",
      "source": [
        "df.columns = df.columns.str.lower().str.replace(' ','_')  # Converts all column names to lowercase and replace space with '_'\n",
        "print(df.columns)"
      ],
      "metadata": {
        "colab": {
          "base_uri": "https://localhost:8080/"
        },
        "id": "N0x_wLmTBUoM",
        "outputId": "fb5ea780-1dbd-45e4-d701-9b7ea30be989"
      },
      "execution_count": 20,
      "outputs": [
        {
          "output_type": "stream",
          "name": "stdout",
          "text": [
            "Index(['user_id', 'device_model', 'operating_system',\n",
            "       'app_usage_time_(min/day)', 'screen_on_time_(hours/day)',\n",
            "       'battery_drain_(mah/day)', 'number_of_apps_installed',\n",
            "       'data_usage_(mb/day)', 'age', 'gender', 'user_behavior_class'],\n",
            "      dtype='object')\n"
          ]
        }
      ]
    },
    {
      "cell_type": "code",
      "source": [
        "from sklearn.preprocessing import OrdinalEncoder\n",
        "encode=OrdinalEncoder()"
      ],
      "metadata": {
        "id": "68BXEnFp6dUB"
      },
      "execution_count": 24,
      "outputs": []
    },
    {
      "cell_type": "code",
      "source": [
        "#Model Vs Screen Time\n",
        "px.bar(df,x=\"device_model\",y=\"screen_on_time_(hours/day)\",color=\"device_model\")"
      ],
      "metadata": {
        "colab": {
          "base_uri": "https://localhost:8080/",
          "height": 542
        },
        "id": "z36oVEif6z5J",
        "outputId": "c140f9ab-3a5c-462f-f15d-447467d6f710"
      },
      "execution_count": 29,
      "outputs": [
        {
          "output_type": "display_data",
          "data": {
            "text/html": [
              "<html>\n",
              "<head><meta charset=\"utf-8\" /></head>\n",
              "<body>\n",
              "    <div>            <script src=\"https://cdnjs.cloudflare.com/ajax/libs/mathjax/2.7.5/MathJax.js?config=TeX-AMS-MML_SVG\"></script><script type=\"text/javascript\">if (window.MathJax && window.MathJax.Hub && window.MathJax.Hub.Config) {window.MathJax.Hub.Config({SVG: {font: \"STIX-Web\"}});}</script>                <script type=\"text/javascript\">window.PlotlyConfig = {MathJaxConfig: 'local'};</script>\n",
              "        <script charset=\"utf-8\" src=\"https://cdn.plot.ly/plotly-2.35.2.min.js\"></script>                <div id=\"f9e03b16-7aed-4659-8de7-edabb9a40e92\" class=\"plotly-graph-div\" style=\"height:525px; width:100%;\"></div>            <script type=\"text/javascript\">                                    window.PLOTLYENV=window.PLOTLYENV || {};                                    if (document.getElementById(\"f9e03b16-7aed-4659-8de7-edabb9a40e92\")) {                    Plotly.newPlot(                        \"f9e03b16-7aed-4659-8de7-edabb9a40e92\",                        [{\"alignmentgroup\":\"True\",\"hovertemplate\":\"device_model=%{x}\\u003cbr\\u003escreen_on_time_(hours\\u002fday)=%{y}\\u003cextra\\u003e\\u003c\\u002fextra\\u003e\",\"legendgroup\":\"Google Pixel 5\",\"marker\":{\"color\":\"#636efa\",\"pattern\":{\"shape\":\"\"}},\"name\":\"Google Pixel 5\",\"offsetgroup\":\"Google Pixel 5\",\"orientation\":\"v\",\"showlegend\":true,\"textposition\":\"auto\",\"x\":[\"Google Pixel 5\",\"Google Pixel 5\",\"Google Pixel 5\",\"Google Pixel 5\",\"Google Pixel 5\",\"Google Pixel 5\",\"Google Pixel 5\",\"Google Pixel 5\",\"Google Pixel 5\",\"Google Pixel 5\",\"Google Pixel 5\",\"Google Pixel 5\",\"Google Pixel 5\",\"Google Pixel 5\",\"Google Pixel 5\",\"Google Pixel 5\",\"Google Pixel 5\",\"Google Pixel 5\",\"Google Pixel 5\",\"Google Pixel 5\",\"Google Pixel 5\",\"Google Pixel 5\",\"Google Pixel 5\",\"Google Pixel 5\",\"Google Pixel 5\",\"Google Pixel 5\",\"Google Pixel 5\",\"Google Pixel 5\",\"Google Pixel 5\",\"Google Pixel 5\",\"Google Pixel 5\",\"Google Pixel 5\",\"Google Pixel 5\",\"Google Pixel 5\",\"Google Pixel 5\",\"Google Pixel 5\",\"Google Pixel 5\",\"Google Pixel 5\",\"Google Pixel 5\",\"Google Pixel 5\",\"Google Pixel 5\",\"Google Pixel 5\",\"Google Pixel 5\",\"Google Pixel 5\",\"Google Pixel 5\",\"Google Pixel 5\",\"Google Pixel 5\",\"Google Pixel 5\",\"Google Pixel 5\",\"Google Pixel 5\",\"Google Pixel 5\",\"Google Pixel 5\",\"Google Pixel 5\",\"Google Pixel 5\",\"Google Pixel 5\",\"Google Pixel 5\",\"Google Pixel 5\",\"Google Pixel 5\",\"Google Pixel 5\",\"Google Pixel 5\",\"Google Pixel 5\",\"Google Pixel 5\",\"Google Pixel 5\",\"Google Pixel 5\",\"Google Pixel 5\",\"Google Pixel 5\",\"Google Pixel 5\",\"Google Pixel 5\",\"Google Pixel 5\",\"Google Pixel 5\",\"Google Pixel 5\",\"Google Pixel 5\",\"Google Pixel 5\",\"Google Pixel 5\",\"Google Pixel 5\",\"Google Pixel 5\",\"Google Pixel 5\",\"Google Pixel 5\",\"Google Pixel 5\",\"Google Pixel 5\",\"Google Pixel 5\",\"Google Pixel 5\",\"Google Pixel 5\",\"Google Pixel 5\",\"Google Pixel 5\",\"Google Pixel 5\",\"Google Pixel 5\",\"Google Pixel 5\",\"Google Pixel 5\",\"Google Pixel 5\",\"Google Pixel 5\",\"Google Pixel 5\",\"Google Pixel 5\",\"Google Pixel 5\",\"Google Pixel 5\",\"Google Pixel 5\",\"Google Pixel 5\",\"Google Pixel 5\",\"Google Pixel 5\",\"Google Pixel 5\",\"Google Pixel 5\",\"Google Pixel 5\",\"Google Pixel 5\",\"Google Pixel 5\",\"Google Pixel 5\",\"Google Pixel 5\",\"Google Pixel 5\",\"Google Pixel 5\",\"Google Pixel 5\",\"Google Pixel 5\",\"Google Pixel 5\",\"Google Pixel 5\",\"Google Pixel 5\",\"Google Pixel 5\",\"Google Pixel 5\",\"Google Pixel 5\",\"Google Pixel 5\",\"Google Pixel 5\",\"Google Pixel 5\",\"Google Pixel 5\",\"Google Pixel 5\",\"Google Pixel 5\",\"Google Pixel 5\",\"Google Pixel 5\",\"Google Pixel 5\",\"Google Pixel 5\",\"Google Pixel 5\",\"Google Pixel 5\",\"Google Pixel 5\",\"Google Pixel 5\",\"Google Pixel 5\",\"Google Pixel 5\",\"Google Pixel 5\",\"Google Pixel 5\",\"Google Pixel 5\",\"Google Pixel 5\",\"Google Pixel 5\",\"Google Pixel 5\",\"Google Pixel 5\",\"Google Pixel 5\",\"Google Pixel 5\",\"Google Pixel 5\"],\"xaxis\":\"x\",\"y\":[6.4,4.8,2.0,1.4,10.4,1.4,5.6,10.5,4.7,2.0,8.2,8.7,1.7,6.3,2.5,5.7,4.5,7.4,2.1,4.1,1.2,1.1,2.5,2.7,1.4,5.1,2.7,10.0,8.1,5.1,4.2,10.8,3.6,11.1,6.3,3.7,2.0,7.7,11.3,1.5,5.4,11.8,1.1,5.2,6.4,10.7,1.9,4.7,1.6,1.7,3.1,4.6,1.7,1.5,6.2,1.9,10.5,2.2,2.3,4.4,1.3,6.9,1.2,1.6,1.8,2.9,2.2,11.3,6.0,6.3,4.6,7.5,3.8,1.5,4.6,2.0,10.6,11.3,6.0,9.2,2.7,7.3,6.9,2.0,10.4,3.9,5.7,1.1,1.2,1.3,4.0,6.6,9.3,6.1,10.9,4.5,1.3,5.8,8.5,5.9,5.3,1.1,2.4,3.0,4.8,9.5,5.4,9.7,6.6,7.6,1.4,3.9,5.3,6.6,6.1,10.3,1.9,11.5,1.1,3.7,5.6,1.8,3.1,6.2,9.8,8.2,4.8,2.0,10.5,3.7,5.6,1.5,6.4,7.3,1.6,4.6,6.1,4.0,7.7,4.9,5.7,3.1],\"yaxis\":\"y\",\"type\":\"bar\"},{\"alignmentgroup\":\"True\",\"hovertemplate\":\"device_model=%{x}\\u003cbr\\u003escreen_on_time_(hours\\u002fday)=%{y}\\u003cextra\\u003e\\u003c\\u002fextra\\u003e\",\"legendgroup\":\"OnePlus 9\",\"marker\":{\"color\":\"#EF553B\",\"pattern\":{\"shape\":\"\"}},\"name\":\"OnePlus 9\",\"offsetgroup\":\"OnePlus 9\",\"orientation\":\"v\",\"showlegend\":true,\"textposition\":\"auto\",\"x\":[\"OnePlus 9\",\"OnePlus 9\",\"OnePlus 9\",\"OnePlus 9\",\"OnePlus 9\",\"OnePlus 9\",\"OnePlus 9\",\"OnePlus 9\",\"OnePlus 9\",\"OnePlus 9\",\"OnePlus 9\",\"OnePlus 9\",\"OnePlus 9\",\"OnePlus 9\",\"OnePlus 9\",\"OnePlus 9\",\"OnePlus 9\",\"OnePlus 9\",\"OnePlus 9\",\"OnePlus 9\",\"OnePlus 9\",\"OnePlus 9\",\"OnePlus 9\",\"OnePlus 9\",\"OnePlus 9\",\"OnePlus 9\",\"OnePlus 9\",\"OnePlus 9\",\"OnePlus 9\",\"OnePlus 9\",\"OnePlus 9\",\"OnePlus 9\",\"OnePlus 9\",\"OnePlus 9\",\"OnePlus 9\",\"OnePlus 9\",\"OnePlus 9\",\"OnePlus 9\",\"OnePlus 9\",\"OnePlus 9\",\"OnePlus 9\",\"OnePlus 9\",\"OnePlus 9\",\"OnePlus 9\",\"OnePlus 9\",\"OnePlus 9\",\"OnePlus 9\",\"OnePlus 9\",\"OnePlus 9\",\"OnePlus 9\",\"OnePlus 9\",\"OnePlus 9\",\"OnePlus 9\",\"OnePlus 9\",\"OnePlus 9\",\"OnePlus 9\",\"OnePlus 9\",\"OnePlus 9\",\"OnePlus 9\",\"OnePlus 9\",\"OnePlus 9\",\"OnePlus 9\",\"OnePlus 9\",\"OnePlus 9\",\"OnePlus 9\",\"OnePlus 9\",\"OnePlus 9\",\"OnePlus 9\",\"OnePlus 9\",\"OnePlus 9\",\"OnePlus 9\",\"OnePlus 9\",\"OnePlus 9\",\"OnePlus 9\",\"OnePlus 9\",\"OnePlus 9\",\"OnePlus 9\",\"OnePlus 9\",\"OnePlus 9\",\"OnePlus 9\",\"OnePlus 9\",\"OnePlus 9\",\"OnePlus 9\",\"OnePlus 9\",\"OnePlus 9\",\"OnePlus 9\",\"OnePlus 9\",\"OnePlus 9\",\"OnePlus 9\",\"OnePlus 9\",\"OnePlus 9\",\"OnePlus 9\",\"OnePlus 9\",\"OnePlus 9\",\"OnePlus 9\",\"OnePlus 9\",\"OnePlus 9\",\"OnePlus 9\",\"OnePlus 9\",\"OnePlus 9\",\"OnePlus 9\",\"OnePlus 9\",\"OnePlus 9\",\"OnePlus 9\",\"OnePlus 9\",\"OnePlus 9\",\"OnePlus 9\",\"OnePlus 9\",\"OnePlus 9\",\"OnePlus 9\",\"OnePlus 9\",\"OnePlus 9\",\"OnePlus 9\",\"OnePlus 9\",\"OnePlus 9\",\"OnePlus 9\",\"OnePlus 9\",\"OnePlus 9\",\"OnePlus 9\",\"OnePlus 9\",\"OnePlus 9\",\"OnePlus 9\",\"OnePlus 9\",\"OnePlus 9\",\"OnePlus 9\",\"OnePlus 9\",\"OnePlus 9\",\"OnePlus 9\",\"OnePlus 9\",\"OnePlus 9\",\"OnePlus 9\",\"OnePlus 9\",\"OnePlus 9\"],\"xaxis\":\"x\",\"y\":[4.7,11.4,5.5,6.2,3.6,11.6,4.0,6.8,6.4,10.1,8.4,8.7,1.1,8.4,10.6,12.0,5.5,4.1,6.0,3.8,8.7,4.2,7.5,2.8,2.4,1.1,4.4,3.7,1.6,3.3,9.3,8.4,9.5,6.8,2.0,2.5,3.4,6.9,1.7,3.5,1.3,1.4,7.9,1.2,7.0,9.4,4.2,11.9,10.8,3.7,7.6,1.8,6.6,2.8,5.0,7.5,6.8,2.0,4.3,6.6,4.3,2.0,1.6,6.0,9.8,3.3,1.4,10.4,7.2,11.2,3.9,1.3,1.1,3.0,1.5,2.9,2.0,7.9,6.1,1.6,1.5,7.3,5.1,5.0,2.4,3.8,2.0,4.4,3.0,8.8,11.8,4.7,2.4,4.8,4.3,6.8,3.4,2.2,8.5,2.2,6.5,7.9,6.1,9.4,2.0,4.6,11.6,1.7,7.1,5.9,6.0,1.3,3.1,7.5,10.5,2.5,1.2,3.0,2.1,5.3,6.0,10.4,5.4,7.0,1.8,1.8,3.2,10.7,1.4,3.3,3.8,6.3,5.4],\"yaxis\":\"y\",\"type\":\"bar\"},{\"alignmentgroup\":\"True\",\"hovertemplate\":\"device_model=%{x}\\u003cbr\\u003escreen_on_time_(hours\\u002fday)=%{y}\\u003cextra\\u003e\\u003c\\u002fextra\\u003e\",\"legendgroup\":\"Xiaomi Mi 11\",\"marker\":{\"color\":\"#00cc96\",\"pattern\":{\"shape\":\"\"}},\"name\":\"Xiaomi Mi 11\",\"offsetgroup\":\"Xiaomi Mi 11\",\"orientation\":\"v\",\"showlegend\":true,\"textposition\":\"auto\",\"x\":[\"Xiaomi Mi 11\",\"Xiaomi Mi 11\",\"Xiaomi Mi 11\",\"Xiaomi Mi 11\",\"Xiaomi Mi 11\",\"Xiaomi Mi 11\",\"Xiaomi Mi 11\",\"Xiaomi Mi 11\",\"Xiaomi Mi 11\",\"Xiaomi Mi 11\",\"Xiaomi Mi 11\",\"Xiaomi Mi 11\",\"Xiaomi Mi 11\",\"Xiaomi Mi 11\",\"Xiaomi Mi 11\",\"Xiaomi Mi 11\",\"Xiaomi Mi 11\",\"Xiaomi Mi 11\",\"Xiaomi Mi 11\",\"Xiaomi Mi 11\",\"Xiaomi Mi 11\",\"Xiaomi Mi 11\",\"Xiaomi Mi 11\",\"Xiaomi Mi 11\",\"Xiaomi Mi 11\",\"Xiaomi Mi 11\",\"Xiaomi Mi 11\",\"Xiaomi Mi 11\",\"Xiaomi Mi 11\",\"Xiaomi Mi 11\",\"Xiaomi Mi 11\",\"Xiaomi Mi 11\",\"Xiaomi Mi 11\",\"Xiaomi Mi 11\",\"Xiaomi Mi 11\",\"Xiaomi Mi 11\",\"Xiaomi Mi 11\",\"Xiaomi Mi 11\",\"Xiaomi Mi 11\",\"Xiaomi Mi 11\",\"Xiaomi Mi 11\",\"Xiaomi Mi 11\",\"Xiaomi Mi 11\",\"Xiaomi Mi 11\",\"Xiaomi Mi 11\",\"Xiaomi Mi 11\",\"Xiaomi Mi 11\",\"Xiaomi Mi 11\",\"Xiaomi Mi 11\",\"Xiaomi Mi 11\",\"Xiaomi Mi 11\",\"Xiaomi Mi 11\",\"Xiaomi Mi 11\",\"Xiaomi Mi 11\",\"Xiaomi Mi 11\",\"Xiaomi Mi 11\",\"Xiaomi Mi 11\",\"Xiaomi Mi 11\",\"Xiaomi Mi 11\",\"Xiaomi Mi 11\",\"Xiaomi Mi 11\",\"Xiaomi Mi 11\",\"Xiaomi Mi 11\",\"Xiaomi Mi 11\",\"Xiaomi Mi 11\",\"Xiaomi Mi 11\",\"Xiaomi Mi 11\",\"Xiaomi Mi 11\",\"Xiaomi Mi 11\",\"Xiaomi Mi 11\",\"Xiaomi Mi 11\",\"Xiaomi Mi 11\",\"Xiaomi Mi 11\",\"Xiaomi Mi 11\",\"Xiaomi Mi 11\",\"Xiaomi Mi 11\",\"Xiaomi Mi 11\",\"Xiaomi Mi 11\",\"Xiaomi Mi 11\",\"Xiaomi Mi 11\",\"Xiaomi Mi 11\",\"Xiaomi Mi 11\",\"Xiaomi Mi 11\",\"Xiaomi Mi 11\",\"Xiaomi Mi 11\",\"Xiaomi Mi 11\",\"Xiaomi Mi 11\",\"Xiaomi Mi 11\",\"Xiaomi Mi 11\",\"Xiaomi Mi 11\",\"Xiaomi Mi 11\",\"Xiaomi Mi 11\",\"Xiaomi Mi 11\",\"Xiaomi Mi 11\",\"Xiaomi Mi 11\",\"Xiaomi Mi 11\",\"Xiaomi Mi 11\",\"Xiaomi Mi 11\",\"Xiaomi Mi 11\",\"Xiaomi Mi 11\",\"Xiaomi Mi 11\",\"Xiaomi Mi 11\",\"Xiaomi Mi 11\",\"Xiaomi Mi 11\",\"Xiaomi Mi 11\",\"Xiaomi Mi 11\",\"Xiaomi Mi 11\",\"Xiaomi Mi 11\",\"Xiaomi Mi 11\",\"Xiaomi Mi 11\",\"Xiaomi Mi 11\",\"Xiaomi Mi 11\",\"Xiaomi Mi 11\",\"Xiaomi Mi 11\",\"Xiaomi Mi 11\",\"Xiaomi Mi 11\",\"Xiaomi Mi 11\",\"Xiaomi Mi 11\",\"Xiaomi Mi 11\",\"Xiaomi Mi 11\",\"Xiaomi Mi 11\",\"Xiaomi Mi 11\",\"Xiaomi Mi 11\",\"Xiaomi Mi 11\",\"Xiaomi Mi 11\",\"Xiaomi Mi 11\",\"Xiaomi Mi 11\",\"Xiaomi Mi 11\",\"Xiaomi Mi 11\",\"Xiaomi Mi 11\",\"Xiaomi Mi 11\",\"Xiaomi Mi 11\",\"Xiaomi Mi 11\",\"Xiaomi Mi 11\",\"Xiaomi Mi 11\",\"Xiaomi Mi 11\",\"Xiaomi Mi 11\",\"Xiaomi Mi 11\",\"Xiaomi Mi 11\",\"Xiaomi Mi 11\",\"Xiaomi Mi 11\",\"Xiaomi Mi 11\",\"Xiaomi Mi 11\",\"Xiaomi Mi 11\",\"Xiaomi Mi 11\",\"Xiaomi Mi 11\"],\"xaxis\":\"x\",\"y\":[4.0,4.9,6.0,4.6,10.2,4.7,2.4,10.9,7.4,5.9,2.2,7.0,11.9,7.5,1.9,11.5,4.0,1.1,5.7,2.0,7.2,1.8,3.3,7.2,4.2,2.8,1.2,5.5,8.6,7.9,2.5,3.3,7.2,1.6,4.5,5.2,1.6,1.5,3.4,1.7,7.8,2.4,1.9,4.8,8.4,3.7,1.6,5.4,5.7,10.4,2.8,1.3,6.5,1.1,3.2,6.1,10.8,7.0,10.0,1.4,11.7,4.0,2.4,7.7,5.0,4.0,9.0,1.3,8.4,6.5,5.9,1.6,1.7,4.0,4.5,3.3,6.5,3.0,1.3,1.5,8.6,11.6,11.6,2.8,6.8,1.1,11.1,3.2,8.2,5.1,4.9,1.1,2.3,10.1,3.4,1.3,7.5,1.9,9.4,3.0,4.9,1.6,1.1,7.3,1.5,7.7,8.4,5.1,2.0,3.8,6.5,11.8,4.7,6.2,4.9,2.1,4.4,10.9,4.4,6.3,10.8,4.0,4.9,1.3,10.2,7.4,1.2,1.1,2.9,5.4,5.2,5.3,6.8,9.6,3.1,3.2,10.3,11.2,11.4,1.5,7.6,5.5,6.6,6.7,8.6,6.8],\"yaxis\":\"y\",\"type\":\"bar\"},{\"alignmentgroup\":\"True\",\"hovertemplate\":\"device_model=%{x}\\u003cbr\\u003escreen_on_time_(hours\\u002fday)=%{y}\\u003cextra\\u003e\\u003c\\u002fextra\\u003e\",\"legendgroup\":\"iPhone 12\",\"marker\":{\"color\":\"#ab63fa\",\"pattern\":{\"shape\":\"\"}},\"name\":\"iPhone 12\",\"offsetgroup\":\"iPhone 12\",\"orientation\":\"v\",\"showlegend\":true,\"textposition\":\"auto\",\"x\":[\"iPhone 12\",\"iPhone 12\",\"iPhone 12\",\"iPhone 12\",\"iPhone 12\",\"iPhone 12\",\"iPhone 12\",\"iPhone 12\",\"iPhone 12\",\"iPhone 12\",\"iPhone 12\",\"iPhone 12\",\"iPhone 12\",\"iPhone 12\",\"iPhone 12\",\"iPhone 12\",\"iPhone 12\",\"iPhone 12\",\"iPhone 12\",\"iPhone 12\",\"iPhone 12\",\"iPhone 12\",\"iPhone 12\",\"iPhone 12\",\"iPhone 12\",\"iPhone 12\",\"iPhone 12\",\"iPhone 12\",\"iPhone 12\",\"iPhone 12\",\"iPhone 12\",\"iPhone 12\",\"iPhone 12\",\"iPhone 12\",\"iPhone 12\",\"iPhone 12\",\"iPhone 12\",\"iPhone 12\",\"iPhone 12\",\"iPhone 12\",\"iPhone 12\",\"iPhone 12\",\"iPhone 12\",\"iPhone 12\",\"iPhone 12\",\"iPhone 12\",\"iPhone 12\",\"iPhone 12\",\"iPhone 12\",\"iPhone 12\",\"iPhone 12\",\"iPhone 12\",\"iPhone 12\",\"iPhone 12\",\"iPhone 12\",\"iPhone 12\",\"iPhone 12\",\"iPhone 12\",\"iPhone 12\",\"iPhone 12\",\"iPhone 12\",\"iPhone 12\",\"iPhone 12\",\"iPhone 12\",\"iPhone 12\",\"iPhone 12\",\"iPhone 12\",\"iPhone 12\",\"iPhone 12\",\"iPhone 12\",\"iPhone 12\",\"iPhone 12\",\"iPhone 12\",\"iPhone 12\",\"iPhone 12\",\"iPhone 12\",\"iPhone 12\",\"iPhone 12\",\"iPhone 12\",\"iPhone 12\",\"iPhone 12\",\"iPhone 12\",\"iPhone 12\",\"iPhone 12\",\"iPhone 12\",\"iPhone 12\",\"iPhone 12\",\"iPhone 12\",\"iPhone 12\",\"iPhone 12\",\"iPhone 12\",\"iPhone 12\",\"iPhone 12\",\"iPhone 12\",\"iPhone 12\",\"iPhone 12\",\"iPhone 12\",\"iPhone 12\",\"iPhone 12\",\"iPhone 12\",\"iPhone 12\",\"iPhone 12\",\"iPhone 12\",\"iPhone 12\",\"iPhone 12\",\"iPhone 12\",\"iPhone 12\",\"iPhone 12\",\"iPhone 12\",\"iPhone 12\",\"iPhone 12\",\"iPhone 12\",\"iPhone 12\",\"iPhone 12\",\"iPhone 12\",\"iPhone 12\",\"iPhone 12\",\"iPhone 12\",\"iPhone 12\",\"iPhone 12\",\"iPhone 12\",\"iPhone 12\",\"iPhone 12\",\"iPhone 12\",\"iPhone 12\",\"iPhone 12\",\"iPhone 12\",\"iPhone 12\",\"iPhone 12\",\"iPhone 12\",\"iPhone 12\",\"iPhone 12\",\"iPhone 12\",\"iPhone 12\",\"iPhone 12\",\"iPhone 12\",\"iPhone 12\",\"iPhone 12\",\"iPhone 12\",\"iPhone 12\",\"iPhone 12\",\"iPhone 12\",\"iPhone 12\",\"iPhone 12\",\"iPhone 12\",\"iPhone 12\"],\"xaxis\":\"x\",\"y\":[4.3,6.6,5.4,5.8,8.5,7.6,3.3,1.6,7.1,4.0,4.5,10.2,9.0,2.0,2.8,1.4,2.5,9.5,3.2,1.2,5.2,7.4,11.3,2.2,11.2,5.3,9.4,2.0,6.6,11.9,9.2,1.2,7.8,2.0,2.2,7.2,4.1,3.7,3.3,6.9,9.6,5.2,2.3,8.9,3.8,10.8,6.6,9.6,6.8,4.1,2.6,7.7,2.7,5.2,4.4,6.0,11.4,2.9,5.1,7.2,4.9,4.4,7.5,8.3,3.8,6.1,1.2,1.0,10.3,10.5,6.0,5.8,7.7,4.1,9.5,7.9,2.4,9.8,1.7,4.6,10.4,6.6,7.4,11.6,7.4,8.2,5.0,2.3,1.4,1.4,3.2,6.1,5.5,3.8,8.4,1.7,4.0,8.8,3.9,1.6,1.6,1.0,4.6,5.0,4.2,2.4,11.1,6.0,3.8,4.4,3.7,4.8,2.9,3.6,10.0,1.2,1.2,6.4,10.5,2.5,2.6,3.8,6.6,3.5,1.6,7.5,10.0,5.7,6.0,8.5,9.6,5.0,5.0,5.2,6.3,10.2,6.6,1.5,6.3,1.7,5.4,2.4,1.6,1.8,4.0,3.9],\"yaxis\":\"y\",\"type\":\"bar\"},{\"alignmentgroup\":\"True\",\"hovertemplate\":\"device_model=%{x}\\u003cbr\\u003escreen_on_time_(hours\\u002fday)=%{y}\\u003cextra\\u003e\\u003c\\u002fextra\\u003e\",\"legendgroup\":\"Samsung Galaxy S21\",\"marker\":{\"color\":\"#FFA15A\",\"pattern\":{\"shape\":\"\"}},\"name\":\"Samsung Galaxy S21\",\"offsetgroup\":\"Samsung Galaxy S21\",\"orientation\":\"v\",\"showlegend\":true,\"textposition\":\"auto\",\"x\":[\"Samsung Galaxy S21\",\"Samsung Galaxy S21\",\"Samsung Galaxy S21\",\"Samsung Galaxy S21\",\"Samsung Galaxy S21\",\"Samsung Galaxy S21\",\"Samsung Galaxy S21\",\"Samsung Galaxy S21\",\"Samsung Galaxy S21\",\"Samsung Galaxy S21\",\"Samsung Galaxy S21\",\"Samsung Galaxy S21\",\"Samsung Galaxy S21\",\"Samsung Galaxy S21\",\"Samsung Galaxy S21\",\"Samsung Galaxy S21\",\"Samsung Galaxy S21\",\"Samsung Galaxy S21\",\"Samsung Galaxy S21\",\"Samsung Galaxy S21\",\"Samsung Galaxy S21\",\"Samsung Galaxy S21\",\"Samsung Galaxy S21\",\"Samsung Galaxy S21\",\"Samsung Galaxy S21\",\"Samsung Galaxy S21\",\"Samsung Galaxy S21\",\"Samsung Galaxy S21\",\"Samsung Galaxy S21\",\"Samsung Galaxy S21\",\"Samsung Galaxy S21\",\"Samsung Galaxy S21\",\"Samsung Galaxy S21\",\"Samsung Galaxy S21\",\"Samsung Galaxy S21\",\"Samsung Galaxy S21\",\"Samsung Galaxy S21\",\"Samsung Galaxy S21\",\"Samsung Galaxy S21\",\"Samsung Galaxy S21\",\"Samsung Galaxy S21\",\"Samsung Galaxy S21\",\"Samsung Galaxy S21\",\"Samsung Galaxy S21\",\"Samsung Galaxy S21\",\"Samsung Galaxy S21\",\"Samsung Galaxy S21\",\"Samsung Galaxy S21\",\"Samsung Galaxy S21\",\"Samsung Galaxy S21\",\"Samsung Galaxy S21\",\"Samsung Galaxy S21\",\"Samsung Galaxy S21\",\"Samsung Galaxy S21\",\"Samsung Galaxy S21\",\"Samsung Galaxy S21\",\"Samsung Galaxy S21\",\"Samsung Galaxy S21\",\"Samsung Galaxy S21\",\"Samsung Galaxy S21\",\"Samsung Galaxy S21\",\"Samsung Galaxy S21\",\"Samsung Galaxy S21\",\"Samsung Galaxy S21\",\"Samsung Galaxy S21\",\"Samsung Galaxy S21\",\"Samsung Galaxy S21\",\"Samsung Galaxy S21\",\"Samsung Galaxy S21\",\"Samsung Galaxy S21\",\"Samsung Galaxy S21\",\"Samsung Galaxy S21\",\"Samsung Galaxy S21\",\"Samsung Galaxy S21\",\"Samsung Galaxy S21\",\"Samsung Galaxy S21\",\"Samsung Galaxy S21\",\"Samsung Galaxy S21\",\"Samsung Galaxy S21\",\"Samsung Galaxy S21\",\"Samsung Galaxy S21\",\"Samsung Galaxy S21\",\"Samsung Galaxy S21\",\"Samsung Galaxy S21\",\"Samsung Galaxy S21\",\"Samsung Galaxy S21\",\"Samsung Galaxy S21\",\"Samsung Galaxy S21\",\"Samsung Galaxy S21\",\"Samsung Galaxy S21\",\"Samsung Galaxy S21\",\"Samsung Galaxy S21\",\"Samsung Galaxy S21\",\"Samsung Galaxy S21\",\"Samsung Galaxy S21\",\"Samsung Galaxy S21\",\"Samsung Galaxy S21\",\"Samsung Galaxy S21\",\"Samsung Galaxy S21\",\"Samsung Galaxy S21\",\"Samsung Galaxy S21\",\"Samsung Galaxy S21\",\"Samsung Galaxy S21\",\"Samsung Galaxy S21\",\"Samsung Galaxy S21\",\"Samsung Galaxy S21\",\"Samsung Galaxy S21\",\"Samsung Galaxy S21\",\"Samsung Galaxy S21\",\"Samsung Galaxy S21\",\"Samsung Galaxy S21\",\"Samsung Galaxy S21\",\"Samsung Galaxy S21\",\"Samsung Galaxy S21\",\"Samsung Galaxy S21\",\"Samsung Galaxy S21\",\"Samsung Galaxy S21\",\"Samsung Galaxy S21\",\"Samsung Galaxy S21\",\"Samsung Galaxy S21\",\"Samsung Galaxy S21\",\"Samsung Galaxy S21\",\"Samsung Galaxy S21\",\"Samsung Galaxy S21\",\"Samsung Galaxy S21\",\"Samsung Galaxy S21\",\"Samsung Galaxy S21\",\"Samsung Galaxy S21\",\"Samsung Galaxy S21\",\"Samsung Galaxy S21\",\"Samsung Galaxy S21\",\"Samsung Galaxy S21\",\"Samsung Galaxy S21\"],\"xaxis\":\"x\",\"y\":[7.3,7.7,2.6,6.5,3.4,6.2,1.2,11.2,6.2,2.1,3.7,3.6,2.7,7.0,7.2,1.8,2.4,1.5,6.2,7.5,3.2,1.6,6.6,11.8,1.0,1.7,9.7,1.1,7.4,1.6,6.5,1.6,5.7,1.1,6.4,8.9,6.1,10.9,3.4,10.7,3.8,7.3,8.9,6.5,5.0,1.7,4.7,6.6,7.8,1.7,7.4,8.5,4.2,6.0,1.5,7.9,1.3,1.4,7.4,6.9,7.5,1.9,4.6,11.8,10.9,10.8,3.0,1.3,3.5,8.6,7.8,11.8,11.7,2.8,5.7,7.2,5.2,3.0,3.5,3.3,9.0,3.3,5.9,7.3,4.6,6.2,4.8,10.4,2.5,6.6,10.8,1.6,7.1,11.2,5.2,4.5,3.3,5.9,11.1,5.5,4.0,2.5,7.3,4.2,6.2,1.3,9.1,3.5,1.1,2.7,6.1,3.6,3.7,7.7,4.2,3.0,4.3,4.0,4.2,1.5,5.1,3.4,1.8,1.3,1.2,11.4,5.5,3.2,3.5,1.6,9.5,9.7,1.7],\"yaxis\":\"y\",\"type\":\"bar\"}],                        {\"template\":{\"data\":{\"histogram2dcontour\":[{\"type\":\"histogram2dcontour\",\"colorbar\":{\"outlinewidth\":0,\"ticks\":\"\"},\"colorscale\":[[0.0,\"#0d0887\"],[0.1111111111111111,\"#46039f\"],[0.2222222222222222,\"#7201a8\"],[0.3333333333333333,\"#9c179e\"],[0.4444444444444444,\"#bd3786\"],[0.5555555555555556,\"#d8576b\"],[0.6666666666666666,\"#ed7953\"],[0.7777777777777778,\"#fb9f3a\"],[0.8888888888888888,\"#fdca26\"],[1.0,\"#f0f921\"]]}],\"choropleth\":[{\"type\":\"choropleth\",\"colorbar\":{\"outlinewidth\":0,\"ticks\":\"\"}}],\"histogram2d\":[{\"type\":\"histogram2d\",\"colorbar\":{\"outlinewidth\":0,\"ticks\":\"\"},\"colorscale\":[[0.0,\"#0d0887\"],[0.1111111111111111,\"#46039f\"],[0.2222222222222222,\"#7201a8\"],[0.3333333333333333,\"#9c179e\"],[0.4444444444444444,\"#bd3786\"],[0.5555555555555556,\"#d8576b\"],[0.6666666666666666,\"#ed7953\"],[0.7777777777777778,\"#fb9f3a\"],[0.8888888888888888,\"#fdca26\"],[1.0,\"#f0f921\"]]}],\"heatmap\":[{\"type\":\"heatmap\",\"colorbar\":{\"outlinewidth\":0,\"ticks\":\"\"},\"colorscale\":[[0.0,\"#0d0887\"],[0.1111111111111111,\"#46039f\"],[0.2222222222222222,\"#7201a8\"],[0.3333333333333333,\"#9c179e\"],[0.4444444444444444,\"#bd3786\"],[0.5555555555555556,\"#d8576b\"],[0.6666666666666666,\"#ed7953\"],[0.7777777777777778,\"#fb9f3a\"],[0.8888888888888888,\"#fdca26\"],[1.0,\"#f0f921\"]]}],\"heatmapgl\":[{\"type\":\"heatmapgl\",\"colorbar\":{\"outlinewidth\":0,\"ticks\":\"\"},\"colorscale\":[[0.0,\"#0d0887\"],[0.1111111111111111,\"#46039f\"],[0.2222222222222222,\"#7201a8\"],[0.3333333333333333,\"#9c179e\"],[0.4444444444444444,\"#bd3786\"],[0.5555555555555556,\"#d8576b\"],[0.6666666666666666,\"#ed7953\"],[0.7777777777777778,\"#fb9f3a\"],[0.8888888888888888,\"#fdca26\"],[1.0,\"#f0f921\"]]}],\"contourcarpet\":[{\"type\":\"contourcarpet\",\"colorbar\":{\"outlinewidth\":0,\"ticks\":\"\"}}],\"contour\":[{\"type\":\"contour\",\"colorbar\":{\"outlinewidth\":0,\"ticks\":\"\"},\"colorscale\":[[0.0,\"#0d0887\"],[0.1111111111111111,\"#46039f\"],[0.2222222222222222,\"#7201a8\"],[0.3333333333333333,\"#9c179e\"],[0.4444444444444444,\"#bd3786\"],[0.5555555555555556,\"#d8576b\"],[0.6666666666666666,\"#ed7953\"],[0.7777777777777778,\"#fb9f3a\"],[0.8888888888888888,\"#fdca26\"],[1.0,\"#f0f921\"]]}],\"surface\":[{\"type\":\"surface\",\"colorbar\":{\"outlinewidth\":0,\"ticks\":\"\"},\"colorscale\":[[0.0,\"#0d0887\"],[0.1111111111111111,\"#46039f\"],[0.2222222222222222,\"#7201a8\"],[0.3333333333333333,\"#9c179e\"],[0.4444444444444444,\"#bd3786\"],[0.5555555555555556,\"#d8576b\"],[0.6666666666666666,\"#ed7953\"],[0.7777777777777778,\"#fb9f3a\"],[0.8888888888888888,\"#fdca26\"],[1.0,\"#f0f921\"]]}],\"mesh3d\":[{\"type\":\"mesh3d\",\"colorbar\":{\"outlinewidth\":0,\"ticks\":\"\"}}],\"scatter\":[{\"fillpattern\":{\"fillmode\":\"overlay\",\"size\":10,\"solidity\":0.2},\"type\":\"scatter\"}],\"parcoords\":[{\"type\":\"parcoords\",\"line\":{\"colorbar\":{\"outlinewidth\":0,\"ticks\":\"\"}}}],\"scatterpolargl\":[{\"type\":\"scatterpolargl\",\"marker\":{\"colorbar\":{\"outlinewidth\":0,\"ticks\":\"\"}}}],\"bar\":[{\"error_x\":{\"color\":\"#2a3f5f\"},\"error_y\":{\"color\":\"#2a3f5f\"},\"marker\":{\"line\":{\"color\":\"#E5ECF6\",\"width\":0.5},\"pattern\":{\"fillmode\":\"overlay\",\"size\":10,\"solidity\":0.2}},\"type\":\"bar\"}],\"scattergeo\":[{\"type\":\"scattergeo\",\"marker\":{\"colorbar\":{\"outlinewidth\":0,\"ticks\":\"\"}}}],\"scatterpolar\":[{\"type\":\"scatterpolar\",\"marker\":{\"colorbar\":{\"outlinewidth\":0,\"ticks\":\"\"}}}],\"histogram\":[{\"marker\":{\"pattern\":{\"fillmode\":\"overlay\",\"size\":10,\"solidity\":0.2}},\"type\":\"histogram\"}],\"scattergl\":[{\"type\":\"scattergl\",\"marker\":{\"colorbar\":{\"outlinewidth\":0,\"ticks\":\"\"}}}],\"scatter3d\":[{\"type\":\"scatter3d\",\"line\":{\"colorbar\":{\"outlinewidth\":0,\"ticks\":\"\"}},\"marker\":{\"colorbar\":{\"outlinewidth\":0,\"ticks\":\"\"}}}],\"scattermapbox\":[{\"type\":\"scattermapbox\",\"marker\":{\"colorbar\":{\"outlinewidth\":0,\"ticks\":\"\"}}}],\"scatterternary\":[{\"type\":\"scatterternary\",\"marker\":{\"colorbar\":{\"outlinewidth\":0,\"ticks\":\"\"}}}],\"scattercarpet\":[{\"type\":\"scattercarpet\",\"marker\":{\"colorbar\":{\"outlinewidth\":0,\"ticks\":\"\"}}}],\"carpet\":[{\"aaxis\":{\"endlinecolor\":\"#2a3f5f\",\"gridcolor\":\"white\",\"linecolor\":\"white\",\"minorgridcolor\":\"white\",\"startlinecolor\":\"#2a3f5f\"},\"baxis\":{\"endlinecolor\":\"#2a3f5f\",\"gridcolor\":\"white\",\"linecolor\":\"white\",\"minorgridcolor\":\"white\",\"startlinecolor\":\"#2a3f5f\"},\"type\":\"carpet\"}],\"table\":[{\"cells\":{\"fill\":{\"color\":\"#EBF0F8\"},\"line\":{\"color\":\"white\"}},\"header\":{\"fill\":{\"color\":\"#C8D4E3\"},\"line\":{\"color\":\"white\"}},\"type\":\"table\"}],\"barpolar\":[{\"marker\":{\"line\":{\"color\":\"#E5ECF6\",\"width\":0.5},\"pattern\":{\"fillmode\":\"overlay\",\"size\":10,\"solidity\":0.2}},\"type\":\"barpolar\"}],\"pie\":[{\"automargin\":true,\"type\":\"pie\"}]},\"layout\":{\"autotypenumbers\":\"strict\",\"colorway\":[\"#636efa\",\"#EF553B\",\"#00cc96\",\"#ab63fa\",\"#FFA15A\",\"#19d3f3\",\"#FF6692\",\"#B6E880\",\"#FF97FF\",\"#FECB52\"],\"font\":{\"color\":\"#2a3f5f\"},\"hovermode\":\"closest\",\"hoverlabel\":{\"align\":\"left\"},\"paper_bgcolor\":\"white\",\"plot_bgcolor\":\"#E5ECF6\",\"polar\":{\"bgcolor\":\"#E5ECF6\",\"angularaxis\":{\"gridcolor\":\"white\",\"linecolor\":\"white\",\"ticks\":\"\"},\"radialaxis\":{\"gridcolor\":\"white\",\"linecolor\":\"white\",\"ticks\":\"\"}},\"ternary\":{\"bgcolor\":\"#E5ECF6\",\"aaxis\":{\"gridcolor\":\"white\",\"linecolor\":\"white\",\"ticks\":\"\"},\"baxis\":{\"gridcolor\":\"white\",\"linecolor\":\"white\",\"ticks\":\"\"},\"caxis\":{\"gridcolor\":\"white\",\"linecolor\":\"white\",\"ticks\":\"\"}},\"coloraxis\":{\"colorbar\":{\"outlinewidth\":0,\"ticks\":\"\"}},\"colorscale\":{\"sequential\":[[0.0,\"#0d0887\"],[0.1111111111111111,\"#46039f\"],[0.2222222222222222,\"#7201a8\"],[0.3333333333333333,\"#9c179e\"],[0.4444444444444444,\"#bd3786\"],[0.5555555555555556,\"#d8576b\"],[0.6666666666666666,\"#ed7953\"],[0.7777777777777778,\"#fb9f3a\"],[0.8888888888888888,\"#fdca26\"],[1.0,\"#f0f921\"]],\"sequentialminus\":[[0.0,\"#0d0887\"],[0.1111111111111111,\"#46039f\"],[0.2222222222222222,\"#7201a8\"],[0.3333333333333333,\"#9c179e\"],[0.4444444444444444,\"#bd3786\"],[0.5555555555555556,\"#d8576b\"],[0.6666666666666666,\"#ed7953\"],[0.7777777777777778,\"#fb9f3a\"],[0.8888888888888888,\"#fdca26\"],[1.0,\"#f0f921\"]],\"diverging\":[[0,\"#8e0152\"],[0.1,\"#c51b7d\"],[0.2,\"#de77ae\"],[0.3,\"#f1b6da\"],[0.4,\"#fde0ef\"],[0.5,\"#f7f7f7\"],[0.6,\"#e6f5d0\"],[0.7,\"#b8e186\"],[0.8,\"#7fbc41\"],[0.9,\"#4d9221\"],[1,\"#276419\"]]},\"xaxis\":{\"gridcolor\":\"white\",\"linecolor\":\"white\",\"ticks\":\"\",\"title\":{\"standoff\":15},\"zerolinecolor\":\"white\",\"automargin\":true,\"zerolinewidth\":2},\"yaxis\":{\"gridcolor\":\"white\",\"linecolor\":\"white\",\"ticks\":\"\",\"title\":{\"standoff\":15},\"zerolinecolor\":\"white\",\"automargin\":true,\"zerolinewidth\":2},\"scene\":{\"xaxis\":{\"backgroundcolor\":\"#E5ECF6\",\"gridcolor\":\"white\",\"linecolor\":\"white\",\"showbackground\":true,\"ticks\":\"\",\"zerolinecolor\":\"white\",\"gridwidth\":2},\"yaxis\":{\"backgroundcolor\":\"#E5ECF6\",\"gridcolor\":\"white\",\"linecolor\":\"white\",\"showbackground\":true,\"ticks\":\"\",\"zerolinecolor\":\"white\",\"gridwidth\":2},\"zaxis\":{\"backgroundcolor\":\"#E5ECF6\",\"gridcolor\":\"white\",\"linecolor\":\"white\",\"showbackground\":true,\"ticks\":\"\",\"zerolinecolor\":\"white\",\"gridwidth\":2}},\"shapedefaults\":{\"line\":{\"color\":\"#2a3f5f\"}},\"annotationdefaults\":{\"arrowcolor\":\"#2a3f5f\",\"arrowhead\":0,\"arrowwidth\":1},\"geo\":{\"bgcolor\":\"white\",\"landcolor\":\"#E5ECF6\",\"subunitcolor\":\"white\",\"showland\":true,\"showlakes\":true,\"lakecolor\":\"white\"},\"title\":{\"x\":0.05},\"mapbox\":{\"style\":\"light\"}}},\"xaxis\":{\"anchor\":\"y\",\"domain\":[0.0,1.0],\"title\":{\"text\":\"device_model\"},\"categoryorder\":\"array\",\"categoryarray\":[\"Google Pixel 5\",\"OnePlus 9\",\"Xiaomi Mi 11\",\"iPhone 12\",\"Samsung Galaxy S21\"]},\"yaxis\":{\"anchor\":\"x\",\"domain\":[0.0,1.0],\"title\":{\"text\":\"screen_on_time_(hours\\u002fday)\"}},\"legend\":{\"title\":{\"text\":\"device_model\"},\"tracegroupgap\":0},\"margin\":{\"t\":60},\"barmode\":\"relative\"},                        {\"responsive\": true}                    ).then(function(){\n",
              "                            \n",
              "var gd = document.getElementById('f9e03b16-7aed-4659-8de7-edabb9a40e92');\n",
              "var x = new MutationObserver(function (mutations, observer) {{\n",
              "        var display = window.getComputedStyle(gd).display;\n",
              "        if (!display || display === 'none') {{\n",
              "            console.log([gd, 'removed!']);\n",
              "            Plotly.purge(gd);\n",
              "            observer.disconnect();\n",
              "        }}\n",
              "}});\n",
              "\n",
              "// Listen for the removal of the full notebook cells\n",
              "var notebookContainer = gd.closest('#notebook-container');\n",
              "if (notebookContainer) {{\n",
              "    x.observe(notebookContainer, {childList: true});\n",
              "}}\n",
              "\n",
              "// Listen for the clearing of the current output cell\n",
              "var outputEl = gd.closest('.output');\n",
              "if (outputEl) {{\n",
              "    x.observe(outputEl, {childList: true});\n",
              "}}\n",
              "\n",
              "                        })                };                            </script>        </div>\n",
              "</body>\n",
              "</html>"
            ]
          },
          "metadata": {}
        }
      ]
    },
    {
      "cell_type": "code",
      "source": [
        "#Data usage vs Battery Drain\n",
        "px.scatter(df,x=\"data_usage_(mb/day)\",y=\"battery_drain_(mah/day)\",color=\"device_model\",size=\"battery_drain_(mah/day)\")"
      ],
      "metadata": {
        "colab": {
          "base_uri": "https://localhost:8080/",
          "height": 542
        },
        "id": "Ry3xH2qODnP1",
        "outputId": "4c94f154-f689-4aee-871b-1df879e2ecad"
      },
      "execution_count": 36,
      "outputs": [
        {
          "output_type": "display_data",
          "data": {
            "text/html": [
              "<html>\n",
              "<head><meta charset=\"utf-8\" /></head>\n",
              "<body>\n",
              "    <div>            <script src=\"https://cdnjs.cloudflare.com/ajax/libs/mathjax/2.7.5/MathJax.js?config=TeX-AMS-MML_SVG\"></script><script type=\"text/javascript\">if (window.MathJax && window.MathJax.Hub && window.MathJax.Hub.Config) {window.MathJax.Hub.Config({SVG: {font: \"STIX-Web\"}});}</script>                <script type=\"text/javascript\">window.PlotlyConfig = {MathJaxConfig: 'local'};</script>\n",
              "        <script charset=\"utf-8\" src=\"https://cdn.plot.ly/plotly-2.35.2.min.js\"></script>                <div id=\"0d5743b7-66a1-4a4f-9a75-0c6ab00eac39\" class=\"plotly-graph-div\" style=\"height:525px; width:100%;\"></div>            <script type=\"text/javascript\">                                    window.PLOTLYENV=window.PLOTLYENV || {};                                    if (document.getElementById(\"0d5743b7-66a1-4a4f-9a75-0c6ab00eac39\")) {                    Plotly.newPlot(                        \"0d5743b7-66a1-4a4f-9a75-0c6ab00eac39\",                        [{\"hovertemplate\":\"device_model=Google Pixel 5\\u003cbr\\u003edata_usage_(mb\\u002fday)=%{x}\\u003cbr\\u003ebattery_drain_(mah\\u002fday)=%{marker.size}\\u003cextra\\u003e\\u003c\\u002fextra\\u003e\",\"legendgroup\":\"Google Pixel 5\",\"marker\":{\"color\":\"#636efa\",\"size\":[1872,1676,940,435,2571,558,1401,2409,1484,457,2623,2857,558,2347,678,1254,1311,2081,912,1474,361,389,929,642,403,1483,1018,2541,2686,1702,1439,2923,1193,2429,2044,873,741,2067,2968,467,1370,2431,487,1660,2109,2738,477,1512,463,455,620,1385,302,590,2205,537,2460,1002,1014,1607,542,1820,415,360,497,1054,827,2590,1489,2001,1534,2001,866,593,1230,366,2547,2947,1875,2663,612,2340,2366,1171,2672,915,1725,505,518,557,1414,2089,2403,2279,2928,1356,369,1291,2859,1740,1767,535,689,801,1639,2638,1307,2633,2155,2037,508,1132,1537,2181,2229,2776,571,2767,395,608,1388,351,1078,2074,2778,2597,1494,1041,2839,1028,1489,387,1858,1937,490,1525,2105,1221,2037,1589,1447,942],\"sizemode\":\"area\",\"sizeref\":7.4825,\"symbol\":\"circle\"},\"mode\":\"markers\",\"name\":\"Google Pixel 5\",\"orientation\":\"v\",\"showlegend\":true,\"x\":[1122,871,564,162,2025,297,949,1599,917,105,2262,2189,284,1082,301,989,695,1352,307,827,293,136,565,596,278,748,428,2391,1924,714,667,1886,458,1796,1337,459,396,1440,2366,158,791,1894,208,629,1079,1995,161,659,146,207,419,823,191,257,1066,230,1787,453,588,878,169,1024,146,149,208,563,434,2481,666,1456,796,1324,510,281,954,253,1823,1663,1072,1774,508,1017,1434,573,1702,468,920,218,170,164,661,1126,2332,1096,2116,869,195,965,2450,791,976,250,318,338,796,2281,642,1727,1360,1056,265,498,700,1327,1194,1606,117,2341,153,461,965,274,489,1135,2080,1553,949,356,1647,493,628,146,1297,1209,216,814,1111,822,1007,824,679,457],\"xaxis\":\"x\",\"y\":[1872,1676,940,435,2571,558,1401,2409,1484,457,2623,2857,558,2347,678,1254,1311,2081,912,1474,361,389,929,642,403,1483,1018,2541,2686,1702,1439,2923,1193,2429,2044,873,741,2067,2968,467,1370,2431,487,1660,2109,2738,477,1512,463,455,620,1385,302,590,2205,537,2460,1002,1014,1607,542,1820,415,360,497,1054,827,2590,1489,2001,1534,2001,866,593,1230,366,2547,2947,1875,2663,612,2340,2366,1171,2672,915,1725,505,518,557,1414,2089,2403,2279,2928,1356,369,1291,2859,1740,1767,535,689,801,1639,2638,1307,2633,2155,2037,508,1132,1537,2181,2229,2776,571,2767,395,608,1388,351,1078,2074,2778,2597,1494,1041,2839,1028,1489,387,1858,1937,490,1525,2105,1221,2037,1589,1447,942],\"yaxis\":\"y\",\"type\":\"scatter\"},{\"hovertemplate\":\"device_model=OnePlus 9\\u003cbr\\u003edata_usage_(mb\\u002fday)=%{x}\\u003cbr\\u003ebattery_drain_(mah\\u002fday)=%{marker.size}\\u003cextra\\u003e\\u003c\\u002fextra\\u003e\",\"legendgroup\":\"OnePlus 9\",\"marker\":{\"color\":\"#EF553B\",\"size\":[1331,2956,1690,2303,628,2803,1711,2387,2312,2447,2447,2736,572,2796,2475,2406,1526,1210,1641,718,2484,1677,2277,935,1124,379,1407,1116,549,961,2606,2559,2855,2093,1007,690,1059,2142,585,761,479,324,2332,398,2352,2766,1360,2702,2805,619,2199,481,2214,686,1232,2176,2027,320,1737,2026,1554,574,420,1762,2905,1020,455,2900,1965,2876,747,434,531,922,373,653,925,2231,1901,323,571,2291,1692,1482,747,967,309,1341,728,2852,2953,1707,639,1770,1759,1892,975,1187,2780,1123,2364,1987,2087,2867,362,1750,2914,312,1928,1757,1715,538,1191,1995,2538,825,545,922,660,1278,1928,2496,1476,1826,417,328,1142,2433,443,723,689,2098,1306],\"sizemode\":\"area\",\"sizeref\":7.4825,\"symbol\":\"circle\"},\"mode\":\"markers\",\"name\":\"OnePlus 9\",\"orientation\":\"v\",\"showlegend\":true,\"x\":[944,1702,641,1099,344,1553,748,1456,1400,2323,1594,1997,161,2415,1603,1968,875,738,889,459,2189,823,1185,578,571,185,991,320,197,433,1990,2471,1565,1300,417,563,580,1130,107,338,253,272,1477,172,1101,2151,888,1738,1538,473,1047,130,1163,594,877,1213,1167,103,953,1076,638,127,274,904,1632,447,106,1609,1341,2477,408,164,232,313,299,322,457,1021,1359,221,203,1049,769,709,403,489,116,862,343,1641,1903,871,545,723,718,1383,507,599,1809,371,1485,1191,1383,1701,182,971,1860,227,1421,864,916,175,563,1228,1694,347,284,373,424,885,1150,2441,767,1077,284,196,366,1729,255,566,576,1178,828],\"xaxis\":\"x\",\"y\":[1331,2956,1690,2303,628,2803,1711,2387,2312,2447,2447,2736,572,2796,2475,2406,1526,1210,1641,718,2484,1677,2277,935,1124,379,1407,1116,549,961,2606,2559,2855,2093,1007,690,1059,2142,585,761,479,324,2332,398,2352,2766,1360,2702,2805,619,2199,481,2214,686,1232,2176,2027,320,1737,2026,1554,574,420,1762,2905,1020,455,2900,1965,2876,747,434,531,922,373,653,925,2231,1901,323,571,2291,1692,1482,747,967,309,1341,728,2852,2953,1707,639,1770,1759,1892,975,1187,2780,1123,2364,1987,2087,2867,362,1750,2914,312,1928,1757,1715,538,1191,1995,2538,825,545,922,660,1278,1928,2496,1476,1826,417,328,1142,2433,443,723,689,2098,1306],\"yaxis\":\"y\",\"type\":\"scatter\"},{\"hovertemplate\":\"device_model=Xiaomi Mi 11\\u003cbr\\u003edata_usage_(mb\\u002fday)=%{x}\\u003cbr\\u003ebattery_drain_(mah\\u002fday)=%{marker.size}\\u003cextra\\u003e\\u003c\\u002fextra\\u003e\",\"legendgroup\":\"Xiaomi Mi 11\",\"marker\":{\"color\":\"#00cc96\",\"size\":[761,1662,1361,1660,2499,1464,837,2476,2180,1243,1101,2306,2798,2292,493,2911,773,585,1305,558,2363,368,839,2243,1781,1113,585,1754,2447,2156,678,751,2056,303,1368,1510,385,364,893,439,2102,859,526,1238,2993,1124,509,1738,1582,2984,971,327,2084,588,603,1941,2712,2185,2720,369,2764,866,982,1863,1655,1791,2613,490,2849,1969,1666,417,530,1519,1781,748,2113,820,490,341,2539,2464,2968,775,2288,437,2821,994,2918,1293,1549,536,1033,2757,798,583,1921,541,2452,697,1657,470,417,1882,594,2017,2664,1408,318,940,1849,2629,1276,1984,1633,1188,1272,2571,1665,1959,2529,1323,1596,489,2911,2363,437,546,1197,1627,1632,1368,2358,2464,947,1189,2568,2925,2776,545,2354,1718,1859,1898,2792,1965],\"sizemode\":\"area\",\"sizeref\":7.4825,\"symbol\":\"circle\"},\"mode\":\"markers\",\"name\":\"Xiaomi Mi 11\",\"orientation\":\"v\",\"showlegend\":true,\"x\":[322,857,889,975,1616,708,572,1935,1417,885,375,1144,1663,1253,128,1717,449,208,985,122,1133,105,348,1454,934,360,264,711,2344,1324,465,412,1226,285,868,655,234,102,493,136,1062,305,112,851,1540,524,113,826,692,1564,431,262,1421,246,417,1290,2438,1376,1763,295,2133,581,478,1116,686,914,2497,151,1508,1266,629,122,268,811,649,499,1314,308,156,259,1935,1767,2191,313,1356,143,1891,567,1928,737,964,167,369,2180,467,281,1102,294,1811,513,765,230,298,1333,198,1187,2493,941,173,535,1125,2479,915,1287,972,578,910,2163,608,1441,2387,787,937,131,2441,1046,234,289,345,790,694,894,1236,2375,545,448,2003,2438,1768,159,1191,815,1393,1455,1709,1201],\"xaxis\":\"x\",\"y\":[761,1662,1361,1660,2499,1464,837,2476,2180,1243,1101,2306,2798,2292,493,2911,773,585,1305,558,2363,368,839,2243,1781,1113,585,1754,2447,2156,678,751,2056,303,1368,1510,385,364,893,439,2102,859,526,1238,2993,1124,509,1738,1582,2984,971,327,2084,588,603,1941,2712,2185,2720,369,2764,866,982,1863,1655,1791,2613,490,2849,1969,1666,417,530,1519,1781,748,2113,820,490,341,2539,2464,2968,775,2288,437,2821,994,2918,1293,1549,536,1033,2757,798,583,1921,541,2452,697,1657,470,417,1882,594,2017,2664,1408,318,940,1849,2629,1276,1984,1633,1188,1272,2571,1665,1959,2529,1323,1596,489,2911,2363,437,546,1197,1627,1632,1368,2358,2464,947,1189,2568,2925,2776,545,2354,1718,1859,1898,2792,1965],\"yaxis\":\"y\",\"type\":\"scatter\"},{\"hovertemplate\":\"device_model=iPhone 12\\u003cbr\\u003edata_usage_(mb\\u002fday)=%{x}\\u003cbr\\u003ebattery_drain_(mah\\u002fday)=%{marker.size}\\u003cextra\\u003e\\u003c\\u002fextra\\u003e\",\"legendgroup\":\"iPhone 12\",\"marker\":{\"color\":\"#ab63fa\",\"size\":[1367,1957,1754,1431,2774,2372,755,450,2269,1420,1705,2932,2902,476,1035,501,1125,2916,651,409,1631,2149,2528,896,2417,1281,2583,469,1817,2853,2936,308,2014,602,917,1822,1287,1153,1175,2282,2873,1318,1083,2855,636,2711,2394,2954,2000,1608,639,2114,805,1641,1505,2290,2443,1117,1226,2397,1566,1275,2007,2865,727,2267,590,435,2718,2971,1533,1309,1974,1326,2840,2159,816,2765,490,1767,2453,2041,2129,2798,1960,2618,1532,608,454,416,716,2115,1238,1137,2591,408,1664,2540,1160,436,587,547,1694,1625,1315,954,2851,1873,739,1734,948,1500,918,988,2513,592,466,2206,2817,740,658,605,2168,625,440,2216,2430,1414,2244,2927,2606,1475,1614,1446,1988,2587,2055,565,2294,519,1544,1039,387,334,856,1082],\"sizemode\":\"area\",\"sizeref\":7.4825,\"symbol\":\"circle\"},\"mode\":\"markers\",\"name\":\"iPhone 12\",\"orientation\":\"v\",\"showlegend\":true,\"x\":[988,1301,779,985,2192,1002,573,111,1053,917,912,1547,1701,125,549,284,367,1946,596,281,909,1321,1856,429,2069,974,1539,139,1406,2007,2416,275,1088,589,423,1127,997,314,461,1397,1805,626,526,2150,529,2118,1227,2125,1079,752,568,1209,344,778,971,1086,1923,322,666,1055,632,984,1115,1820,362,1449,155,223,1863,1683,645,840,1431,905,1986,1499,503,1548,122,653,1813,1096,1459,2175,1264,2102,957,394,228,198,414,1041,839,506,2304,291,724,2402,398,182,275,142,809,687,762,441,1814,1093,330,804,507,807,362,504,1968,218,131,1200,2194,537,358,583,1246,370,265,1291,1737,991,1296,1901,1543,972,679,920,1004,1921,1253,283,1334,167,635,334,224,113,569,381],\"xaxis\":\"x\",\"y\":[1367,1957,1754,1431,2774,2372,755,450,2269,1420,1705,2932,2902,476,1035,501,1125,2916,651,409,1631,2149,2528,896,2417,1281,2583,469,1817,2853,2936,308,2014,602,917,1822,1287,1153,1175,2282,2873,1318,1083,2855,636,2711,2394,2954,2000,1608,639,2114,805,1641,1505,2290,2443,1117,1226,2397,1566,1275,2007,2865,727,2267,590,435,2718,2971,1533,1309,1974,1326,2840,2159,816,2765,490,1767,2453,2041,2129,2798,1960,2618,1532,608,454,416,716,2115,1238,1137,2591,408,1664,2540,1160,436,587,547,1694,1625,1315,954,2851,1873,739,1734,948,1500,918,988,2513,592,466,2206,2817,740,658,605,2168,625,440,2216,2430,1414,2244,2927,2606,1475,1614,1446,1988,2587,2055,565,2294,519,1544,1039,387,334,856,1082],\"yaxis\":\"y\",\"type\":\"scatter\"},{\"hovertemplate\":\"device_model=Samsung Galaxy S21\\u003cbr\\u003edata_usage_(mb\\u002fday)=%{x}\\u003cbr\\u003ebattery_drain_(mah\\u002fday)=%{marker.size}\\u003cextra\\u003e\\u003c\\u002fextra\\u003e\",\"legendgroup\":\"Samsung Galaxy S21\",\"marker\":{\"color\":\"#FFA15A\",\"size\":[1802,2138,681,2094,1073,1899,580,2808,1851,720,993,889,690,1982,1808,333,1003,345,2053,2169,818,590,2085,2858,313,375,2876,528,2289,315,2375,540,1471,402,2109,2920,2108,2752,714,2556,649,1946,2549,2378,1542,359,1642,2160,2029,403,2136,2660,1507,1707,375,2292,561,542,2314,2111,1823,574,1325,2435,2514,2445,890,461,1055,2595,2289,2790,2655,1062,1295,1859,1604,617,1114,734,2696,938,1789,2349,1396,2201,1681,2717,1176,2398,2911,442,1984,2623,1390,1646,937,1528,2672,1616,1047,1110,2082,1392,2245,462,2858,606,532,625,1975,627,630,1809,1500,1131,1382,1158,1407,310,1483,1198,321,314,365,2891,1699,648,706,325,2424,2422,431],\"sizemode\":\"area\",\"sizeref\":7.4825,\"symbol\":\"circle\"},\"mode\":\"markers\",\"name\":\"Samsung Galaxy S21\",\"orientation\":\"v\",\"showlegend\":true,\"x\":[1054,1053,302,1372,451,1384,153,2328,1180,392,429,323,393,1091,1090,138,392,276,1303,1083,404,124,1150,2378,139,216,2076,201,1026,207,1493,262,972,265,1300,2252,1434,2017,445,2148,368,1164,1730,1341,844,109,861,1450,1136,163,1376,1795,868,881,246,1472,252,266,1387,1463,1075,287,845,2208,2335,1623,548,199,313,1657,1242,2074,2481,579,751,1318,919,306,466,583,1561,438,987,1092,883,1085,795,2140,545,1415,1682,249,1461,2460,792,665,573,915,2258,656,508,373,1162,640,1103,296,2158,446,122,416,1101,464,575,1050,677,596,905,493,867,272,977,401,271,201,144,1845,729,339,495,225,1550,1985,224],\"xaxis\":\"x\",\"y\":[1802,2138,681,2094,1073,1899,580,2808,1851,720,993,889,690,1982,1808,333,1003,345,2053,2169,818,590,2085,2858,313,375,2876,528,2289,315,2375,540,1471,402,2109,2920,2108,2752,714,2556,649,1946,2549,2378,1542,359,1642,2160,2029,403,2136,2660,1507,1707,375,2292,561,542,2314,2111,1823,574,1325,2435,2514,2445,890,461,1055,2595,2289,2790,2655,1062,1295,1859,1604,617,1114,734,2696,938,1789,2349,1396,2201,1681,2717,1176,2398,2911,442,1984,2623,1390,1646,937,1528,2672,1616,1047,1110,2082,1392,2245,462,2858,606,532,625,1975,627,630,1809,1500,1131,1382,1158,1407,310,1483,1198,321,314,365,2891,1699,648,706,325,2424,2422,431],\"yaxis\":\"y\",\"type\":\"scatter\"}],                        {\"template\":{\"data\":{\"histogram2dcontour\":[{\"type\":\"histogram2dcontour\",\"colorbar\":{\"outlinewidth\":0,\"ticks\":\"\"},\"colorscale\":[[0.0,\"#0d0887\"],[0.1111111111111111,\"#46039f\"],[0.2222222222222222,\"#7201a8\"],[0.3333333333333333,\"#9c179e\"],[0.4444444444444444,\"#bd3786\"],[0.5555555555555556,\"#d8576b\"],[0.6666666666666666,\"#ed7953\"],[0.7777777777777778,\"#fb9f3a\"],[0.8888888888888888,\"#fdca26\"],[1.0,\"#f0f921\"]]}],\"choropleth\":[{\"type\":\"choropleth\",\"colorbar\":{\"outlinewidth\":0,\"ticks\":\"\"}}],\"histogram2d\":[{\"type\":\"histogram2d\",\"colorbar\":{\"outlinewidth\":0,\"ticks\":\"\"},\"colorscale\":[[0.0,\"#0d0887\"],[0.1111111111111111,\"#46039f\"],[0.2222222222222222,\"#7201a8\"],[0.3333333333333333,\"#9c179e\"],[0.4444444444444444,\"#bd3786\"],[0.5555555555555556,\"#d8576b\"],[0.6666666666666666,\"#ed7953\"],[0.7777777777777778,\"#fb9f3a\"],[0.8888888888888888,\"#fdca26\"],[1.0,\"#f0f921\"]]}],\"heatmap\":[{\"type\":\"heatmap\",\"colorbar\":{\"outlinewidth\":0,\"ticks\":\"\"},\"colorscale\":[[0.0,\"#0d0887\"],[0.1111111111111111,\"#46039f\"],[0.2222222222222222,\"#7201a8\"],[0.3333333333333333,\"#9c179e\"],[0.4444444444444444,\"#bd3786\"],[0.5555555555555556,\"#d8576b\"],[0.6666666666666666,\"#ed7953\"],[0.7777777777777778,\"#fb9f3a\"],[0.8888888888888888,\"#fdca26\"],[1.0,\"#f0f921\"]]}],\"heatmapgl\":[{\"type\":\"heatmapgl\",\"colorbar\":{\"outlinewidth\":0,\"ticks\":\"\"},\"colorscale\":[[0.0,\"#0d0887\"],[0.1111111111111111,\"#46039f\"],[0.2222222222222222,\"#7201a8\"],[0.3333333333333333,\"#9c179e\"],[0.4444444444444444,\"#bd3786\"],[0.5555555555555556,\"#d8576b\"],[0.6666666666666666,\"#ed7953\"],[0.7777777777777778,\"#fb9f3a\"],[0.8888888888888888,\"#fdca26\"],[1.0,\"#f0f921\"]]}],\"contourcarpet\":[{\"type\":\"contourcarpet\",\"colorbar\":{\"outlinewidth\":0,\"ticks\":\"\"}}],\"contour\":[{\"type\":\"contour\",\"colorbar\":{\"outlinewidth\":0,\"ticks\":\"\"},\"colorscale\":[[0.0,\"#0d0887\"],[0.1111111111111111,\"#46039f\"],[0.2222222222222222,\"#7201a8\"],[0.3333333333333333,\"#9c179e\"],[0.4444444444444444,\"#bd3786\"],[0.5555555555555556,\"#d8576b\"],[0.6666666666666666,\"#ed7953\"],[0.7777777777777778,\"#fb9f3a\"],[0.8888888888888888,\"#fdca26\"],[1.0,\"#f0f921\"]]}],\"surface\":[{\"type\":\"surface\",\"colorbar\":{\"outlinewidth\":0,\"ticks\":\"\"},\"colorscale\":[[0.0,\"#0d0887\"],[0.1111111111111111,\"#46039f\"],[0.2222222222222222,\"#7201a8\"],[0.3333333333333333,\"#9c179e\"],[0.4444444444444444,\"#bd3786\"],[0.5555555555555556,\"#d8576b\"],[0.6666666666666666,\"#ed7953\"],[0.7777777777777778,\"#fb9f3a\"],[0.8888888888888888,\"#fdca26\"],[1.0,\"#f0f921\"]]}],\"mesh3d\":[{\"type\":\"mesh3d\",\"colorbar\":{\"outlinewidth\":0,\"ticks\":\"\"}}],\"scatter\":[{\"fillpattern\":{\"fillmode\":\"overlay\",\"size\":10,\"solidity\":0.2},\"type\":\"scatter\"}],\"parcoords\":[{\"type\":\"parcoords\",\"line\":{\"colorbar\":{\"outlinewidth\":0,\"ticks\":\"\"}}}],\"scatterpolargl\":[{\"type\":\"scatterpolargl\",\"marker\":{\"colorbar\":{\"outlinewidth\":0,\"ticks\":\"\"}}}],\"bar\":[{\"error_x\":{\"color\":\"#2a3f5f\"},\"error_y\":{\"color\":\"#2a3f5f\"},\"marker\":{\"line\":{\"color\":\"#E5ECF6\",\"width\":0.5},\"pattern\":{\"fillmode\":\"overlay\",\"size\":10,\"solidity\":0.2}},\"type\":\"bar\"}],\"scattergeo\":[{\"type\":\"scattergeo\",\"marker\":{\"colorbar\":{\"outlinewidth\":0,\"ticks\":\"\"}}}],\"scatterpolar\":[{\"type\":\"scatterpolar\",\"marker\":{\"colorbar\":{\"outlinewidth\":0,\"ticks\":\"\"}}}],\"histogram\":[{\"marker\":{\"pattern\":{\"fillmode\":\"overlay\",\"size\":10,\"solidity\":0.2}},\"type\":\"histogram\"}],\"scattergl\":[{\"type\":\"scattergl\",\"marker\":{\"colorbar\":{\"outlinewidth\":0,\"ticks\":\"\"}}}],\"scatter3d\":[{\"type\":\"scatter3d\",\"line\":{\"colorbar\":{\"outlinewidth\":0,\"ticks\":\"\"}},\"marker\":{\"colorbar\":{\"outlinewidth\":0,\"ticks\":\"\"}}}],\"scattermapbox\":[{\"type\":\"scattermapbox\",\"marker\":{\"colorbar\":{\"outlinewidth\":0,\"ticks\":\"\"}}}],\"scatterternary\":[{\"type\":\"scatterternary\",\"marker\":{\"colorbar\":{\"outlinewidth\":0,\"ticks\":\"\"}}}],\"scattercarpet\":[{\"type\":\"scattercarpet\",\"marker\":{\"colorbar\":{\"outlinewidth\":0,\"ticks\":\"\"}}}],\"carpet\":[{\"aaxis\":{\"endlinecolor\":\"#2a3f5f\",\"gridcolor\":\"white\",\"linecolor\":\"white\",\"minorgridcolor\":\"white\",\"startlinecolor\":\"#2a3f5f\"},\"baxis\":{\"endlinecolor\":\"#2a3f5f\",\"gridcolor\":\"white\",\"linecolor\":\"white\",\"minorgridcolor\":\"white\",\"startlinecolor\":\"#2a3f5f\"},\"type\":\"carpet\"}],\"table\":[{\"cells\":{\"fill\":{\"color\":\"#EBF0F8\"},\"line\":{\"color\":\"white\"}},\"header\":{\"fill\":{\"color\":\"#C8D4E3\"},\"line\":{\"color\":\"white\"}},\"type\":\"table\"}],\"barpolar\":[{\"marker\":{\"line\":{\"color\":\"#E5ECF6\",\"width\":0.5},\"pattern\":{\"fillmode\":\"overlay\",\"size\":10,\"solidity\":0.2}},\"type\":\"barpolar\"}],\"pie\":[{\"automargin\":true,\"type\":\"pie\"}]},\"layout\":{\"autotypenumbers\":\"strict\",\"colorway\":[\"#636efa\",\"#EF553B\",\"#00cc96\",\"#ab63fa\",\"#FFA15A\",\"#19d3f3\",\"#FF6692\",\"#B6E880\",\"#FF97FF\",\"#FECB52\"],\"font\":{\"color\":\"#2a3f5f\"},\"hovermode\":\"closest\",\"hoverlabel\":{\"align\":\"left\"},\"paper_bgcolor\":\"white\",\"plot_bgcolor\":\"#E5ECF6\",\"polar\":{\"bgcolor\":\"#E5ECF6\",\"angularaxis\":{\"gridcolor\":\"white\",\"linecolor\":\"white\",\"ticks\":\"\"},\"radialaxis\":{\"gridcolor\":\"white\",\"linecolor\":\"white\",\"ticks\":\"\"}},\"ternary\":{\"bgcolor\":\"#E5ECF6\",\"aaxis\":{\"gridcolor\":\"white\",\"linecolor\":\"white\",\"ticks\":\"\"},\"baxis\":{\"gridcolor\":\"white\",\"linecolor\":\"white\",\"ticks\":\"\"},\"caxis\":{\"gridcolor\":\"white\",\"linecolor\":\"white\",\"ticks\":\"\"}},\"coloraxis\":{\"colorbar\":{\"outlinewidth\":0,\"ticks\":\"\"}},\"colorscale\":{\"sequential\":[[0.0,\"#0d0887\"],[0.1111111111111111,\"#46039f\"],[0.2222222222222222,\"#7201a8\"],[0.3333333333333333,\"#9c179e\"],[0.4444444444444444,\"#bd3786\"],[0.5555555555555556,\"#d8576b\"],[0.6666666666666666,\"#ed7953\"],[0.7777777777777778,\"#fb9f3a\"],[0.8888888888888888,\"#fdca26\"],[1.0,\"#f0f921\"]],\"sequentialminus\":[[0.0,\"#0d0887\"],[0.1111111111111111,\"#46039f\"],[0.2222222222222222,\"#7201a8\"],[0.3333333333333333,\"#9c179e\"],[0.4444444444444444,\"#bd3786\"],[0.5555555555555556,\"#d8576b\"],[0.6666666666666666,\"#ed7953\"],[0.7777777777777778,\"#fb9f3a\"],[0.8888888888888888,\"#fdca26\"],[1.0,\"#f0f921\"]],\"diverging\":[[0,\"#8e0152\"],[0.1,\"#c51b7d\"],[0.2,\"#de77ae\"],[0.3,\"#f1b6da\"],[0.4,\"#fde0ef\"],[0.5,\"#f7f7f7\"],[0.6,\"#e6f5d0\"],[0.7,\"#b8e186\"],[0.8,\"#7fbc41\"],[0.9,\"#4d9221\"],[1,\"#276419\"]]},\"xaxis\":{\"gridcolor\":\"white\",\"linecolor\":\"white\",\"ticks\":\"\",\"title\":{\"standoff\":15},\"zerolinecolor\":\"white\",\"automargin\":true,\"zerolinewidth\":2},\"yaxis\":{\"gridcolor\":\"white\",\"linecolor\":\"white\",\"ticks\":\"\",\"title\":{\"standoff\":15},\"zerolinecolor\":\"white\",\"automargin\":true,\"zerolinewidth\":2},\"scene\":{\"xaxis\":{\"backgroundcolor\":\"#E5ECF6\",\"gridcolor\":\"white\",\"linecolor\":\"white\",\"showbackground\":true,\"ticks\":\"\",\"zerolinecolor\":\"white\",\"gridwidth\":2},\"yaxis\":{\"backgroundcolor\":\"#E5ECF6\",\"gridcolor\":\"white\",\"linecolor\":\"white\",\"showbackground\":true,\"ticks\":\"\",\"zerolinecolor\":\"white\",\"gridwidth\":2},\"zaxis\":{\"backgroundcolor\":\"#E5ECF6\",\"gridcolor\":\"white\",\"linecolor\":\"white\",\"showbackground\":true,\"ticks\":\"\",\"zerolinecolor\":\"white\",\"gridwidth\":2}},\"shapedefaults\":{\"line\":{\"color\":\"#2a3f5f\"}},\"annotationdefaults\":{\"arrowcolor\":\"#2a3f5f\",\"arrowhead\":0,\"arrowwidth\":1},\"geo\":{\"bgcolor\":\"white\",\"landcolor\":\"#E5ECF6\",\"subunitcolor\":\"white\",\"showland\":true,\"showlakes\":true,\"lakecolor\":\"white\"},\"title\":{\"x\":0.05},\"mapbox\":{\"style\":\"light\"}}},\"xaxis\":{\"anchor\":\"y\",\"domain\":[0.0,1.0],\"title\":{\"text\":\"data_usage_(mb\\u002fday)\"}},\"yaxis\":{\"anchor\":\"x\",\"domain\":[0.0,1.0],\"title\":{\"text\":\"battery_drain_(mah\\u002fday)\"}},\"legend\":{\"title\":{\"text\":\"device_model\"},\"tracegroupgap\":0,\"itemsizing\":\"constant\"},\"margin\":{\"t\":60}},                        {\"responsive\": true}                    ).then(function(){\n",
              "                            \n",
              "var gd = document.getElementById('0d5743b7-66a1-4a4f-9a75-0c6ab00eac39');\n",
              "var x = new MutationObserver(function (mutations, observer) {{\n",
              "        var display = window.getComputedStyle(gd).display;\n",
              "        if (!display || display === 'none') {{\n",
              "            console.log([gd, 'removed!']);\n",
              "            Plotly.purge(gd);\n",
              "            observer.disconnect();\n",
              "        }}\n",
              "}});\n",
              "\n",
              "// Listen for the removal of the full notebook cells\n",
              "var notebookContainer = gd.closest('#notebook-container');\n",
              "if (notebookContainer) {{\n",
              "    x.observe(notebookContainer, {childList: true});\n",
              "}}\n",
              "\n",
              "// Listen for the clearing of the current output cell\n",
              "var outputEl = gd.closest('.output');\n",
              "if (outputEl) {{\n",
              "    x.observe(outputEl, {childList: true});\n",
              "}}\n",
              "\n",
              "                        })                };                            </script>        </div>\n",
              "</body>\n",
              "</html>"
            ]
          },
          "metadata": {}
        }
      ]
    },
    {
      "cell_type": "code",
      "source": [
        "#Android Vs ios\n",
        "px.bar(df,x=\"operating_system\",color=\"operating_system\")"
      ],
      "metadata": {
        "colab": {
          "base_uri": "https://localhost:8080/",
          "height": 542
        },
        "id": "lex6Jfi6Mlfr",
        "outputId": "483bb1ea-ada2-4afe-afc1-012da763edf1"
      },
      "execution_count": 40,
      "outputs": [
        {
          "output_type": "display_data",
          "data": {
            "text/html": [
              "<html>\n",
              "<head><meta charset=\"utf-8\" /></head>\n",
              "<body>\n",
              "    <div>            <script src=\"https://cdnjs.cloudflare.com/ajax/libs/mathjax/2.7.5/MathJax.js?config=TeX-AMS-MML_SVG\"></script><script type=\"text/javascript\">if (window.MathJax && window.MathJax.Hub && window.MathJax.Hub.Config) {window.MathJax.Hub.Config({SVG: {font: \"STIX-Web\"}});}</script>                <script type=\"text/javascript\">window.PlotlyConfig = {MathJaxConfig: 'local'};</script>\n",
              "        <script charset=\"utf-8\" src=\"https://cdn.plot.ly/plotly-2.35.2.min.js\"></script>                <div id=\"c033b9c8-4d89-42e9-85d0-2fab8d9467ca\" class=\"plotly-graph-div\" style=\"height:525px; width:100%;\"></div>            <script type=\"text/javascript\">                                    window.PLOTLYENV=window.PLOTLYENV || {};                                    if (document.getElementById(\"c033b9c8-4d89-42e9-85d0-2fab8d9467ca\")) {                    Plotly.newPlot(                        \"c033b9c8-4d89-42e9-85d0-2fab8d9467ca\",                        [{\"alignmentgroup\":\"True\",\"hovertemplate\":\"operating_system=%{x}\\u003cbr\\u003ecount=%{y}\\u003cextra\\u003e\\u003c\\u002fextra\\u003e\",\"legendgroup\":\"Android\",\"marker\":{\"color\":\"#636efa\",\"pattern\":{\"shape\":\"\"}},\"name\":\"Android\",\"offsetgroup\":\"Android\",\"orientation\":\"v\",\"showlegend\":true,\"textposition\":\"auto\",\"x\":[\"Android\",\"Android\",\"Android\",\"Android\",\"Android\",\"Android\",\"Android\",\"Android\",\"Android\",\"Android\",\"Android\",\"Android\",\"Android\",\"Android\",\"Android\",\"Android\",\"Android\",\"Android\",\"Android\",\"Android\",\"Android\",\"Android\",\"Android\",\"Android\",\"Android\",\"Android\",\"Android\",\"Android\",\"Android\",\"Android\",\"Android\",\"Android\",\"Android\",\"Android\",\"Android\",\"Android\",\"Android\",\"Android\",\"Android\",\"Android\",\"Android\",\"Android\",\"Android\",\"Android\",\"Android\",\"Android\",\"Android\",\"Android\",\"Android\",\"Android\",\"Android\",\"Android\",\"Android\",\"Android\",\"Android\",\"Android\",\"Android\",\"Android\",\"Android\",\"Android\",\"Android\",\"Android\",\"Android\",\"Android\",\"Android\",\"Android\",\"Android\",\"Android\",\"Android\",\"Android\",\"Android\",\"Android\",\"Android\",\"Android\",\"Android\",\"Android\",\"Android\",\"Android\",\"Android\",\"Android\",\"Android\",\"Android\",\"Android\",\"Android\",\"Android\",\"Android\",\"Android\",\"Android\",\"Android\",\"Android\",\"Android\",\"Android\",\"Android\",\"Android\",\"Android\",\"Android\",\"Android\",\"Android\",\"Android\",\"Android\",\"Android\",\"Android\",\"Android\",\"Android\",\"Android\",\"Android\",\"Android\",\"Android\",\"Android\",\"Android\",\"Android\",\"Android\",\"Android\",\"Android\",\"Android\",\"Android\",\"Android\",\"Android\",\"Android\",\"Android\",\"Android\",\"Android\",\"Android\",\"Android\",\"Android\",\"Android\",\"Android\",\"Android\",\"Android\",\"Android\",\"Android\",\"Android\",\"Android\",\"Android\",\"Android\",\"Android\",\"Android\",\"Android\",\"Android\",\"Android\",\"Android\",\"Android\",\"Android\",\"Android\",\"Android\",\"Android\",\"Android\",\"Android\",\"Android\",\"Android\",\"Android\",\"Android\",\"Android\",\"Android\",\"Android\",\"Android\",\"Android\",\"Android\",\"Android\",\"Android\",\"Android\",\"Android\",\"Android\",\"Android\",\"Android\",\"Android\",\"Android\",\"Android\",\"Android\",\"Android\",\"Android\",\"Android\",\"Android\",\"Android\",\"Android\",\"Android\",\"Android\",\"Android\",\"Android\",\"Android\",\"Android\",\"Android\",\"Android\",\"Android\",\"Android\",\"Android\",\"Android\",\"Android\",\"Android\",\"Android\",\"Android\",\"Android\",\"Android\",\"Android\",\"Android\",\"Android\",\"Android\",\"Android\",\"Android\",\"Android\",\"Android\",\"Android\",\"Android\",\"Android\",\"Android\",\"Android\",\"Android\",\"Android\",\"Android\",\"Android\",\"Android\",\"Android\",\"Android\",\"Android\",\"Android\",\"Android\",\"Android\",\"Android\",\"Android\",\"Android\",\"Android\",\"Android\",\"Android\",\"Android\",\"Android\",\"Android\",\"Android\",\"Android\",\"Android\",\"Android\",\"Android\",\"Android\",\"Android\",\"Android\",\"Android\",\"Android\",\"Android\",\"Android\",\"Android\",\"Android\",\"Android\",\"Android\",\"Android\",\"Android\",\"Android\",\"Android\",\"Android\",\"Android\",\"Android\",\"Android\",\"Android\",\"Android\",\"Android\",\"Android\",\"Android\",\"Android\",\"Android\",\"Android\",\"Android\",\"Android\",\"Android\",\"Android\",\"Android\",\"Android\",\"Android\",\"Android\",\"Android\",\"Android\",\"Android\",\"Android\",\"Android\",\"Android\",\"Android\",\"Android\",\"Android\",\"Android\",\"Android\",\"Android\",\"Android\",\"Android\",\"Android\",\"Android\",\"Android\",\"Android\",\"Android\",\"Android\",\"Android\",\"Android\",\"Android\",\"Android\",\"Android\",\"Android\",\"Android\",\"Android\",\"Android\",\"Android\",\"Android\",\"Android\",\"Android\",\"Android\",\"Android\",\"Android\",\"Android\",\"Android\",\"Android\",\"Android\",\"Android\",\"Android\",\"Android\",\"Android\",\"Android\",\"Android\",\"Android\",\"Android\",\"Android\",\"Android\",\"Android\",\"Android\",\"Android\",\"Android\",\"Android\",\"Android\",\"Android\",\"Android\",\"Android\",\"Android\",\"Android\",\"Android\",\"Android\",\"Android\",\"Android\",\"Android\",\"Android\",\"Android\",\"Android\",\"Android\",\"Android\",\"Android\",\"Android\",\"Android\",\"Android\",\"Android\",\"Android\",\"Android\",\"Android\",\"Android\",\"Android\",\"Android\",\"Android\",\"Android\",\"Android\",\"Android\",\"Android\",\"Android\",\"Android\",\"Android\",\"Android\",\"Android\",\"Android\",\"Android\",\"Android\",\"Android\",\"Android\",\"Android\",\"Android\",\"Android\",\"Android\",\"Android\",\"Android\",\"Android\",\"Android\",\"Android\",\"Android\",\"Android\",\"Android\",\"Android\",\"Android\",\"Android\",\"Android\",\"Android\",\"Android\",\"Android\",\"Android\",\"Android\",\"Android\",\"Android\",\"Android\",\"Android\",\"Android\",\"Android\",\"Android\",\"Android\",\"Android\",\"Android\",\"Android\",\"Android\",\"Android\",\"Android\",\"Android\",\"Android\",\"Android\",\"Android\",\"Android\",\"Android\",\"Android\",\"Android\",\"Android\",\"Android\",\"Android\",\"Android\",\"Android\",\"Android\",\"Android\",\"Android\",\"Android\",\"Android\",\"Android\",\"Android\",\"Android\",\"Android\",\"Android\",\"Android\",\"Android\",\"Android\",\"Android\",\"Android\",\"Android\",\"Android\",\"Android\",\"Android\",\"Android\",\"Android\",\"Android\",\"Android\",\"Android\",\"Android\",\"Android\",\"Android\",\"Android\",\"Android\",\"Android\",\"Android\",\"Android\",\"Android\",\"Android\",\"Android\",\"Android\",\"Android\",\"Android\",\"Android\",\"Android\",\"Android\",\"Android\",\"Android\",\"Android\",\"Android\",\"Android\",\"Android\",\"Android\",\"Android\",\"Android\",\"Android\",\"Android\",\"Android\",\"Android\",\"Android\",\"Android\",\"Android\",\"Android\",\"Android\",\"Android\",\"Android\",\"Android\",\"Android\",\"Android\",\"Android\",\"Android\",\"Android\",\"Android\",\"Android\",\"Android\",\"Android\",\"Android\",\"Android\",\"Android\",\"Android\",\"Android\",\"Android\",\"Android\",\"Android\",\"Android\",\"Android\",\"Android\",\"Android\",\"Android\",\"Android\",\"Android\",\"Android\",\"Android\",\"Android\",\"Android\",\"Android\",\"Android\",\"Android\",\"Android\",\"Android\",\"Android\",\"Android\",\"Android\",\"Android\",\"Android\",\"Android\",\"Android\",\"Android\",\"Android\",\"Android\",\"Android\",\"Android\",\"Android\",\"Android\",\"Android\",\"Android\",\"Android\",\"Android\",\"Android\",\"Android\",\"Android\",\"Android\",\"Android\",\"Android\",\"Android\",\"Android\",\"Android\",\"Android\",\"Android\",\"Android\",\"Android\",\"Android\",\"Android\",\"Android\",\"Android\",\"Android\",\"Android\",\"Android\",\"Android\",\"Android\",\"Android\",\"Android\",\"Android\",\"Android\",\"Android\",\"Android\",\"Android\",\"Android\"],\"xaxis\":\"x\",\"y\":[1,1,1,1,1,1,1,1,1,1,1,1,1,1,1,1,1,1,1,1,1,1,1,1,1,1,1,1,1,1,1,1,1,1,1,1,1,1,1,1,1,1,1,1,1,1,1,1,1,1,1,1,1,1,1,1,1,1,1,1,1,1,1,1,1,1,1,1,1,1,1,1,1,1,1,1,1,1,1,1,1,1,1,1,1,1,1,1,1,1,1,1,1,1,1,1,1,1,1,1,1,1,1,1,1,1,1,1,1,1,1,1,1,1,1,1,1,1,1,1,1,1,1,1,1,1,1,1,1,1,1,1,1,1,1,1,1,1,1,1,1,1,1,1,1,1,1,1,1,1,1,1,1,1,1,1,1,1,1,1,1,1,1,1,1,1,1,1,1,1,1,1,1,1,1,1,1,1,1,1,1,1,1,1,1,1,1,1,1,1,1,1,1,1,1,1,1,1,1,1,1,1,1,1,1,1,1,1,1,1,1,1,1,1,1,1,1,1,1,1,1,1,1,1,1,1,1,1,1,1,1,1,1,1,1,1,1,1,1,1,1,1,1,1,1,1,1,1,1,1,1,1,1,1,1,1,1,1,1,1,1,1,1,1,1,1,1,1,1,1,1,1,1,1,1,1,1,1,1,1,1,1,1,1,1,1,1,1,1,1,1,1,1,1,1,1,1,1,1,1,1,1,1,1,1,1,1,1,1,1,1,1,1,1,1,1,1,1,1,1,1,1,1,1,1,1,1,1,1,1,1,1,1,1,1,1,1,1,1,1,1,1,1,1,1,1,1,1,1,1,1,1,1,1,1,1,1,1,1,1,1,1,1,1,1,1,1,1,1,1,1,1,1,1,1,1,1,1,1,1,1,1,1,1,1,1,1,1,1,1,1,1,1,1,1,1,1,1,1,1,1,1,1,1,1,1,1,1,1,1,1,1,1,1,1,1,1,1,1,1,1,1,1,1,1,1,1,1,1,1,1,1,1,1,1,1,1,1,1,1,1,1,1,1,1,1,1,1,1,1,1,1,1,1,1,1,1,1,1,1,1,1,1,1,1,1,1,1,1,1,1,1,1,1,1,1,1,1,1,1,1,1,1,1,1,1,1,1,1,1,1,1,1,1,1,1,1,1,1,1,1,1,1,1,1,1,1,1,1,1,1,1,1,1,1,1,1,1,1,1,1,1,1,1,1,1,1,1,1,1,1,1,1,1,1,1,1,1,1,1,1,1,1,1,1,1,1,1,1,1,1,1,1,1],\"yaxis\":\"y\",\"type\":\"bar\"},{\"alignmentgroup\":\"True\",\"hovertemplate\":\"operating_system=%{x}\\u003cbr\\u003ecount=%{y}\\u003cextra\\u003e\\u003c\\u002fextra\\u003e\",\"legendgroup\":\"iOS\",\"marker\":{\"color\":\"#EF553B\",\"pattern\":{\"shape\":\"\"}},\"name\":\"iOS\",\"offsetgroup\":\"iOS\",\"orientation\":\"v\",\"showlegend\":true,\"textposition\":\"auto\",\"x\":[\"iOS\",\"iOS\",\"iOS\",\"iOS\",\"iOS\",\"iOS\",\"iOS\",\"iOS\",\"iOS\",\"iOS\",\"iOS\",\"iOS\",\"iOS\",\"iOS\",\"iOS\",\"iOS\",\"iOS\",\"iOS\",\"iOS\",\"iOS\",\"iOS\",\"iOS\",\"iOS\",\"iOS\",\"iOS\",\"iOS\",\"iOS\",\"iOS\",\"iOS\",\"iOS\",\"iOS\",\"iOS\",\"iOS\",\"iOS\",\"iOS\",\"iOS\",\"iOS\",\"iOS\",\"iOS\",\"iOS\",\"iOS\",\"iOS\",\"iOS\",\"iOS\",\"iOS\",\"iOS\",\"iOS\",\"iOS\",\"iOS\",\"iOS\",\"iOS\",\"iOS\",\"iOS\",\"iOS\",\"iOS\",\"iOS\",\"iOS\",\"iOS\",\"iOS\",\"iOS\",\"iOS\",\"iOS\",\"iOS\",\"iOS\",\"iOS\",\"iOS\",\"iOS\",\"iOS\",\"iOS\",\"iOS\",\"iOS\",\"iOS\",\"iOS\",\"iOS\",\"iOS\",\"iOS\",\"iOS\",\"iOS\",\"iOS\",\"iOS\",\"iOS\",\"iOS\",\"iOS\",\"iOS\",\"iOS\",\"iOS\",\"iOS\",\"iOS\",\"iOS\",\"iOS\",\"iOS\",\"iOS\",\"iOS\",\"iOS\",\"iOS\",\"iOS\",\"iOS\",\"iOS\",\"iOS\",\"iOS\",\"iOS\",\"iOS\",\"iOS\",\"iOS\",\"iOS\",\"iOS\",\"iOS\",\"iOS\",\"iOS\",\"iOS\",\"iOS\",\"iOS\",\"iOS\",\"iOS\",\"iOS\",\"iOS\",\"iOS\",\"iOS\",\"iOS\",\"iOS\",\"iOS\",\"iOS\",\"iOS\",\"iOS\",\"iOS\",\"iOS\",\"iOS\",\"iOS\",\"iOS\",\"iOS\",\"iOS\",\"iOS\",\"iOS\",\"iOS\",\"iOS\",\"iOS\",\"iOS\",\"iOS\",\"iOS\",\"iOS\",\"iOS\",\"iOS\",\"iOS\",\"iOS\",\"iOS\",\"iOS\"],\"xaxis\":\"x\",\"y\":[1,1,1,1,1,1,1,1,1,1,1,1,1,1,1,1,1,1,1,1,1,1,1,1,1,1,1,1,1,1,1,1,1,1,1,1,1,1,1,1,1,1,1,1,1,1,1,1,1,1,1,1,1,1,1,1,1,1,1,1,1,1,1,1,1,1,1,1,1,1,1,1,1,1,1,1,1,1,1,1,1,1,1,1,1,1,1,1,1,1,1,1,1,1,1,1,1,1,1,1,1,1,1,1,1,1,1,1,1,1,1,1,1,1,1,1,1,1,1,1,1,1,1,1,1,1,1,1,1,1,1,1,1,1,1,1,1,1,1,1,1,1,1,1,1,1],\"yaxis\":\"y\",\"type\":\"bar\"}],                        {\"template\":{\"data\":{\"histogram2dcontour\":[{\"type\":\"histogram2dcontour\",\"colorbar\":{\"outlinewidth\":0,\"ticks\":\"\"},\"colorscale\":[[0.0,\"#0d0887\"],[0.1111111111111111,\"#46039f\"],[0.2222222222222222,\"#7201a8\"],[0.3333333333333333,\"#9c179e\"],[0.4444444444444444,\"#bd3786\"],[0.5555555555555556,\"#d8576b\"],[0.6666666666666666,\"#ed7953\"],[0.7777777777777778,\"#fb9f3a\"],[0.8888888888888888,\"#fdca26\"],[1.0,\"#f0f921\"]]}],\"choropleth\":[{\"type\":\"choropleth\",\"colorbar\":{\"outlinewidth\":0,\"ticks\":\"\"}}],\"histogram2d\":[{\"type\":\"histogram2d\",\"colorbar\":{\"outlinewidth\":0,\"ticks\":\"\"},\"colorscale\":[[0.0,\"#0d0887\"],[0.1111111111111111,\"#46039f\"],[0.2222222222222222,\"#7201a8\"],[0.3333333333333333,\"#9c179e\"],[0.4444444444444444,\"#bd3786\"],[0.5555555555555556,\"#d8576b\"],[0.6666666666666666,\"#ed7953\"],[0.7777777777777778,\"#fb9f3a\"],[0.8888888888888888,\"#fdca26\"],[1.0,\"#f0f921\"]]}],\"heatmap\":[{\"type\":\"heatmap\",\"colorbar\":{\"outlinewidth\":0,\"ticks\":\"\"},\"colorscale\":[[0.0,\"#0d0887\"],[0.1111111111111111,\"#46039f\"],[0.2222222222222222,\"#7201a8\"],[0.3333333333333333,\"#9c179e\"],[0.4444444444444444,\"#bd3786\"],[0.5555555555555556,\"#d8576b\"],[0.6666666666666666,\"#ed7953\"],[0.7777777777777778,\"#fb9f3a\"],[0.8888888888888888,\"#fdca26\"],[1.0,\"#f0f921\"]]}],\"heatmapgl\":[{\"type\":\"heatmapgl\",\"colorbar\":{\"outlinewidth\":0,\"ticks\":\"\"},\"colorscale\":[[0.0,\"#0d0887\"],[0.1111111111111111,\"#46039f\"],[0.2222222222222222,\"#7201a8\"],[0.3333333333333333,\"#9c179e\"],[0.4444444444444444,\"#bd3786\"],[0.5555555555555556,\"#d8576b\"],[0.6666666666666666,\"#ed7953\"],[0.7777777777777778,\"#fb9f3a\"],[0.8888888888888888,\"#fdca26\"],[1.0,\"#f0f921\"]]}],\"contourcarpet\":[{\"type\":\"contourcarpet\",\"colorbar\":{\"outlinewidth\":0,\"ticks\":\"\"}}],\"contour\":[{\"type\":\"contour\",\"colorbar\":{\"outlinewidth\":0,\"ticks\":\"\"},\"colorscale\":[[0.0,\"#0d0887\"],[0.1111111111111111,\"#46039f\"],[0.2222222222222222,\"#7201a8\"],[0.3333333333333333,\"#9c179e\"],[0.4444444444444444,\"#bd3786\"],[0.5555555555555556,\"#d8576b\"],[0.6666666666666666,\"#ed7953\"],[0.7777777777777778,\"#fb9f3a\"],[0.8888888888888888,\"#fdca26\"],[1.0,\"#f0f921\"]]}],\"surface\":[{\"type\":\"surface\",\"colorbar\":{\"outlinewidth\":0,\"ticks\":\"\"},\"colorscale\":[[0.0,\"#0d0887\"],[0.1111111111111111,\"#46039f\"],[0.2222222222222222,\"#7201a8\"],[0.3333333333333333,\"#9c179e\"],[0.4444444444444444,\"#bd3786\"],[0.5555555555555556,\"#d8576b\"],[0.6666666666666666,\"#ed7953\"],[0.7777777777777778,\"#fb9f3a\"],[0.8888888888888888,\"#fdca26\"],[1.0,\"#f0f921\"]]}],\"mesh3d\":[{\"type\":\"mesh3d\",\"colorbar\":{\"outlinewidth\":0,\"ticks\":\"\"}}],\"scatter\":[{\"fillpattern\":{\"fillmode\":\"overlay\",\"size\":10,\"solidity\":0.2},\"type\":\"scatter\"}],\"parcoords\":[{\"type\":\"parcoords\",\"line\":{\"colorbar\":{\"outlinewidth\":0,\"ticks\":\"\"}}}],\"scatterpolargl\":[{\"type\":\"scatterpolargl\",\"marker\":{\"colorbar\":{\"outlinewidth\":0,\"ticks\":\"\"}}}],\"bar\":[{\"error_x\":{\"color\":\"#2a3f5f\"},\"error_y\":{\"color\":\"#2a3f5f\"},\"marker\":{\"line\":{\"color\":\"#E5ECF6\",\"width\":0.5},\"pattern\":{\"fillmode\":\"overlay\",\"size\":10,\"solidity\":0.2}},\"type\":\"bar\"}],\"scattergeo\":[{\"type\":\"scattergeo\",\"marker\":{\"colorbar\":{\"outlinewidth\":0,\"ticks\":\"\"}}}],\"scatterpolar\":[{\"type\":\"scatterpolar\",\"marker\":{\"colorbar\":{\"outlinewidth\":0,\"ticks\":\"\"}}}],\"histogram\":[{\"marker\":{\"pattern\":{\"fillmode\":\"overlay\",\"size\":10,\"solidity\":0.2}},\"type\":\"histogram\"}],\"scattergl\":[{\"type\":\"scattergl\",\"marker\":{\"colorbar\":{\"outlinewidth\":0,\"ticks\":\"\"}}}],\"scatter3d\":[{\"type\":\"scatter3d\",\"line\":{\"colorbar\":{\"outlinewidth\":0,\"ticks\":\"\"}},\"marker\":{\"colorbar\":{\"outlinewidth\":0,\"ticks\":\"\"}}}],\"scattermapbox\":[{\"type\":\"scattermapbox\",\"marker\":{\"colorbar\":{\"outlinewidth\":0,\"ticks\":\"\"}}}],\"scatterternary\":[{\"type\":\"scatterternary\",\"marker\":{\"colorbar\":{\"outlinewidth\":0,\"ticks\":\"\"}}}],\"scattercarpet\":[{\"type\":\"scattercarpet\",\"marker\":{\"colorbar\":{\"outlinewidth\":0,\"ticks\":\"\"}}}],\"carpet\":[{\"aaxis\":{\"endlinecolor\":\"#2a3f5f\",\"gridcolor\":\"white\",\"linecolor\":\"white\",\"minorgridcolor\":\"white\",\"startlinecolor\":\"#2a3f5f\"},\"baxis\":{\"endlinecolor\":\"#2a3f5f\",\"gridcolor\":\"white\",\"linecolor\":\"white\",\"minorgridcolor\":\"white\",\"startlinecolor\":\"#2a3f5f\"},\"type\":\"carpet\"}],\"table\":[{\"cells\":{\"fill\":{\"color\":\"#EBF0F8\"},\"line\":{\"color\":\"white\"}},\"header\":{\"fill\":{\"color\":\"#C8D4E3\"},\"line\":{\"color\":\"white\"}},\"type\":\"table\"}],\"barpolar\":[{\"marker\":{\"line\":{\"color\":\"#E5ECF6\",\"width\":0.5},\"pattern\":{\"fillmode\":\"overlay\",\"size\":10,\"solidity\":0.2}},\"type\":\"barpolar\"}],\"pie\":[{\"automargin\":true,\"type\":\"pie\"}]},\"layout\":{\"autotypenumbers\":\"strict\",\"colorway\":[\"#636efa\",\"#EF553B\",\"#00cc96\",\"#ab63fa\",\"#FFA15A\",\"#19d3f3\",\"#FF6692\",\"#B6E880\",\"#FF97FF\",\"#FECB52\"],\"font\":{\"color\":\"#2a3f5f\"},\"hovermode\":\"closest\",\"hoverlabel\":{\"align\":\"left\"},\"paper_bgcolor\":\"white\",\"plot_bgcolor\":\"#E5ECF6\",\"polar\":{\"bgcolor\":\"#E5ECF6\",\"angularaxis\":{\"gridcolor\":\"white\",\"linecolor\":\"white\",\"ticks\":\"\"},\"radialaxis\":{\"gridcolor\":\"white\",\"linecolor\":\"white\",\"ticks\":\"\"}},\"ternary\":{\"bgcolor\":\"#E5ECF6\",\"aaxis\":{\"gridcolor\":\"white\",\"linecolor\":\"white\",\"ticks\":\"\"},\"baxis\":{\"gridcolor\":\"white\",\"linecolor\":\"white\",\"ticks\":\"\"},\"caxis\":{\"gridcolor\":\"white\",\"linecolor\":\"white\",\"ticks\":\"\"}},\"coloraxis\":{\"colorbar\":{\"outlinewidth\":0,\"ticks\":\"\"}},\"colorscale\":{\"sequential\":[[0.0,\"#0d0887\"],[0.1111111111111111,\"#46039f\"],[0.2222222222222222,\"#7201a8\"],[0.3333333333333333,\"#9c179e\"],[0.4444444444444444,\"#bd3786\"],[0.5555555555555556,\"#d8576b\"],[0.6666666666666666,\"#ed7953\"],[0.7777777777777778,\"#fb9f3a\"],[0.8888888888888888,\"#fdca26\"],[1.0,\"#f0f921\"]],\"sequentialminus\":[[0.0,\"#0d0887\"],[0.1111111111111111,\"#46039f\"],[0.2222222222222222,\"#7201a8\"],[0.3333333333333333,\"#9c179e\"],[0.4444444444444444,\"#bd3786\"],[0.5555555555555556,\"#d8576b\"],[0.6666666666666666,\"#ed7953\"],[0.7777777777777778,\"#fb9f3a\"],[0.8888888888888888,\"#fdca26\"],[1.0,\"#f0f921\"]],\"diverging\":[[0,\"#8e0152\"],[0.1,\"#c51b7d\"],[0.2,\"#de77ae\"],[0.3,\"#f1b6da\"],[0.4,\"#fde0ef\"],[0.5,\"#f7f7f7\"],[0.6,\"#e6f5d0\"],[0.7,\"#b8e186\"],[0.8,\"#7fbc41\"],[0.9,\"#4d9221\"],[1,\"#276419\"]]},\"xaxis\":{\"gridcolor\":\"white\",\"linecolor\":\"white\",\"ticks\":\"\",\"title\":{\"standoff\":15},\"zerolinecolor\":\"white\",\"automargin\":true,\"zerolinewidth\":2},\"yaxis\":{\"gridcolor\":\"white\",\"linecolor\":\"white\",\"ticks\":\"\",\"title\":{\"standoff\":15},\"zerolinecolor\":\"white\",\"automargin\":true,\"zerolinewidth\":2},\"scene\":{\"xaxis\":{\"backgroundcolor\":\"#E5ECF6\",\"gridcolor\":\"white\",\"linecolor\":\"white\",\"showbackground\":true,\"ticks\":\"\",\"zerolinecolor\":\"white\",\"gridwidth\":2},\"yaxis\":{\"backgroundcolor\":\"#E5ECF6\",\"gridcolor\":\"white\",\"linecolor\":\"white\",\"showbackground\":true,\"ticks\":\"\",\"zerolinecolor\":\"white\",\"gridwidth\":2},\"zaxis\":{\"backgroundcolor\":\"#E5ECF6\",\"gridcolor\":\"white\",\"linecolor\":\"white\",\"showbackground\":true,\"ticks\":\"\",\"zerolinecolor\":\"white\",\"gridwidth\":2}},\"shapedefaults\":{\"line\":{\"color\":\"#2a3f5f\"}},\"annotationdefaults\":{\"arrowcolor\":\"#2a3f5f\",\"arrowhead\":0,\"arrowwidth\":1},\"geo\":{\"bgcolor\":\"white\",\"landcolor\":\"#E5ECF6\",\"subunitcolor\":\"white\",\"showland\":true,\"showlakes\":true,\"lakecolor\":\"white\"},\"title\":{\"x\":0.05},\"mapbox\":{\"style\":\"light\"}}},\"xaxis\":{\"anchor\":\"y\",\"domain\":[0.0,1.0],\"title\":{\"text\":\"operating_system\"},\"categoryorder\":\"array\",\"categoryarray\":[\"Android\",\"iOS\"]},\"yaxis\":{\"anchor\":\"x\",\"domain\":[0.0,1.0],\"title\":{\"text\":\"count\"}},\"legend\":{\"title\":{\"text\":\"operating_system\"},\"tracegroupgap\":0},\"margin\":{\"t\":60},\"barmode\":\"relative\"},                        {\"responsive\": true}                    ).then(function(){\n",
              "                            \n",
              "var gd = document.getElementById('c033b9c8-4d89-42e9-85d0-2fab8d9467ca');\n",
              "var x = new MutationObserver(function (mutations, observer) {{\n",
              "        var display = window.getComputedStyle(gd).display;\n",
              "        if (!display || display === 'none') {{\n",
              "            console.log([gd, 'removed!']);\n",
              "            Plotly.purge(gd);\n",
              "            observer.disconnect();\n",
              "        }}\n",
              "}});\n",
              "\n",
              "// Listen for the removal of the full notebook cells\n",
              "var notebookContainer = gd.closest('#notebook-container');\n",
              "if (notebookContainer) {{\n",
              "    x.observe(notebookContainer, {childList: true});\n",
              "}}\n",
              "\n",
              "// Listen for the clearing of the current output cell\n",
              "var outputEl = gd.closest('.output');\n",
              "if (outputEl) {{\n",
              "    x.observe(outputEl, {childList: true});\n",
              "}}\n",
              "\n",
              "                        })                };                            </script>        </div>\n",
              "</body>\n",
              "</html>"
            ]
          },
          "metadata": {}
        }
      ]
    }
  ]
}